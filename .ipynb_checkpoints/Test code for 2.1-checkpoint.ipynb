{
 "cells": [
  {
   "cell_type": "code",
   "execution_count": 4,
   "metadata": {},
   "outputs": [],
   "source": [
    "import requests\n",
    "from bs4 import BeautifulSoup"
   ]
  },
  {
   "cell_type": "code",
   "execution_count": 2,
   "metadata": {},
   "outputs": [
    {
     "name": "stdout",
     "output_type": "stream",
     "text": [
      "200\n"
     ]
    }
   ],
   "source": [
    "import requests\n",
    "\n",
    "x = requests.get('https://tylervigen.com/view_correlation?id=3890')\n",
    "print(x.status_code)"
   ]
  },
  {
   "cell_type": "code",
   "execution_count": 7,
   "metadata": {},
   "outputs": [
    {
     "name": "stdout",
     "output_type": "stream",
     "text": [
      "<html>\n",
      " <head>\n",
      "  <link href=\"correlate.png\" rel=\"image_src\"/>\n",
      "  <meta content=\"Per capita consumption of mozzarella cheese (US) correlates with Civil engineering doctorates awarded (US)\" name=\"title\"/>\n",
      "  <meta content=\"Can you come up with a causal mechanism?\" name=\"description\"/>\n",
      "  <title>\n",
      "   Per capita consumption of mozzarella cheese (US) correlates with Civil engineering doctorates awarded (US)\n",
      "  </title>\n",
      "  <style type=\"text/css\">\n",
      "   table {\n",
      "border-spacing: 0px;\n",
      "border-color: gray;\n",
      "}\n",
      "a:link    {color:79c000;text-decoration:none;}\n",
      "a:visited {color:79c000;text-decoration:none;}\n",
      "a:hover   {color:0079c0;text-decoration:none;}\n",
      "a:active  {color:79c000;text-decoration:none;}\n",
      ".variable{\n",
      "\tfont-size: 24px;\n",
      "\tfont-weight:bold;\n",
      "\tcolor:0079C0;\n",
      "}\n",
      "a.variable:link    {color:0079C0;text-decoration:none;}\n",
      "a.variable:visited {color:0079C0;text-decoration:none;}\n",
      "a.variable:hover   {color:79c000;text-decoration:none;}\n",
      "a.variable:active  {color:0079C0;text-decoration:none;}\n",
      ".title{\n",
      "\tfont-size: 28px;\n",
      "\tfont-weight:bold;\n",
      "\tcolor:0079C0;\n",
      "}\n",
      "\n",
      "body {\n",
      "font-family: \"Trebuchet MS\", Helvetica, sans-serif;\n",
      "margin:0; \n",
      "padding:0;\n",
      "font-size:12px;\n",
      "background-image:url(\"dot.png\");\n",
      "\n",
      "background: -moz-linear-gradient (left, magenta, yellow); background: -webkit-gradient(linear, left top, right bottom, color-stop(0.0, magenta), color-stop(1.0,yellow));\n",
      "\n",
      "  background: -webkit-gradient(radial, center center, 0, center center, 460, from(#FFFFFF), to(#DDDDDD));\n",
      "  background: -webkit-radial-gradient(circle, #FFFFFF, #DDDDDD);\n",
      "  background: -moz-radial-gradient(circle, #FFFFFF, #DDDDDD);\n",
      "  background: -ms-radial-gradient(circle, #FFFFFF, #DDDDDD);\n",
      "\n",
      "}\n",
      "\n",
      ".container{\n",
      "border: 2px dashed #219AE1;\n",
      "border-radius:10px;\n",
      "//box-shadow: 3px 3px 5px #909090;\n",
      "\n",
      "}\n",
      "\n",
      ".alldata{\n",
      "border: 1px dotted #219AE1;\n",
      "border-radius:10px;\n",
      "//box-shadow: 3px 3px 5px #909090;\n",
      "}\n",
      "\n",
      "\n",
      ".bottom{\n",
      "border-bottom: 1px dotted #219AE1;\n",
      "//box-shadow: 3px 3px 5px #909090;\n",
      "}\n",
      "\n",
      ".bottomleft{\n",
      "border-bottom: 1px dotted #219AE1;\n",
      "border-left: 1px dotted #219AE1;\n",
      "//box-shadow: 3px 3px 5px #909090;\n",
      "}\n",
      "\n",
      ".left{\n",
      "border-left: 1px dotted #219AE1;\n",
      "//box-shadow: 3px 3px 5px #909090;\n",
      "}\n",
      "  </style>\n",
      "  <link href=\"favicon.ico\" rel=\"icon\" type=\"image/x-icon\"/>\n",
      "  <link href=\"favicon.ico\" rel=\"shortcut icon\" type=\"image/x-icon\"/>\n",
      "  <meta content=\"width=device-width, initial-scale=1.0\" name=\"viewport\"/>\n",
      " </head>\n",
      " <body>\n",
      "  <table align=\"center\" width=\"65%\">\n",
      "   <tr>\n",
      "    <td align=\"center\" style=\"vertical-align:top\">\n",
      "     <a href=\"http://tylervigen.com\">\n",
      "      <img border=\"0\" src=\"correlation_project/thingsthatcorrelate.png\"/>\n",
      "     </a>\n",
      "     <br/>\n",
      "     <br/>\n",
      "    </td>\n",
      "   </tr>\n",
      "   <tr>\n",
      "    <td style=\"vertical-align:top\">\n",
      "     <table cellpadding=\"15\" class=\"container\" width=\"100%\">\n",
      "      <tr>\n",
      "       <td align=\"center\">\n",
      "        <a class=\"variable\" href=\"discover?type_select=fun&amp;link_var=Per+capita+consumption+of+mozzarella+cheese+%28US%29&amp;exclude_county=ON\">\n",
      "         Per capita consumption of mozzarella cheese (US)\n",
      "        </a>\n",
      "        <br/>\n",
      "        correlates with\n",
      "        <br/>\n",
      "        <a class=\"variable\" href=\"discover?type_select=excel&amp;link_var=Civil+engineering+doctorates+awarded+%28US%29&amp;exclude_county=ON\">\n",
      "         Civil engineering doctorates awarded (US)\n",
      "        </a>\n",
      "        <br/>\n",
      "        <br/>\n",
      "        <img src=\"correlation_project/correlation_images/per-capita-consumption-of-mozzarella-cheese-us_civil-engineering-doctorates-awarded-us.png\"/>\n",
      "        <br/>\n",
      "        <a href=\"http://imgur.com/upload?url=http://tylervigen.com/correlation_project/correlation_images/per-capita-consumption-of-mozzarella-cheese-us_civil-engineering-doctorates-awarded-us.png\" target=\"_blank\">\n",
      "         <font size=\"1\">\n",
      "          Upload this image to imgur\n",
      "         </font>\n",
      "        </a>\n",
      "        <br/>\n",
      "        <br/>\n",
      "        <table cellpadding=\"5\" class=\"alldata\">\n",
      "         <tr>\n",
      "          <td class=\"bottom\">\n",
      "          </td>\n",
      "          <td align=\"center\" class=\"bottomleft\">\n",
      "           <font size=\"1\">\n",
      "            <b>\n",
      "             <u>\n",
      "              2000\n",
      "             </u>\n",
      "            </b>\n",
      "           </font>\n",
      "          </td>\n",
      "          <td align=\"center\" class=\"bottomleft\">\n",
      "           <font size=\"1\">\n",
      "            <b>\n",
      "             <u>\n",
      "              2001\n",
      "             </u>\n",
      "            </b>\n",
      "           </font>\n",
      "          </td>\n",
      "          <td align=\"center\" class=\"bottomleft\">\n",
      "           <font size=\"1\">\n",
      "            <b>\n",
      "             <u>\n",
      "              2002\n",
      "             </u>\n",
      "            </b>\n",
      "           </font>\n",
      "          </td>\n",
      "          <td align=\"center\" class=\"bottomleft\">\n",
      "           <font size=\"1\">\n",
      "            <b>\n",
      "             <u>\n",
      "              2003\n",
      "             </u>\n",
      "            </b>\n",
      "           </font>\n",
      "          </td>\n",
      "          <td align=\"center\" class=\"bottomleft\">\n",
      "           <font size=\"1\">\n",
      "            <b>\n",
      "             <u>\n",
      "              2004\n",
      "             </u>\n",
      "            </b>\n",
      "           </font>\n",
      "          </td>\n",
      "          <td align=\"center\" class=\"bottomleft\">\n",
      "           <font size=\"1\">\n",
      "            <b>\n",
      "             <u>\n",
      "              2005\n",
      "             </u>\n",
      "            </b>\n",
      "           </font>\n",
      "          </td>\n",
      "          <td align=\"center\" class=\"bottomleft\">\n",
      "           <font size=\"1\">\n",
      "            <b>\n",
      "             <u>\n",
      "              2006\n",
      "             </u>\n",
      "            </b>\n",
      "           </font>\n",
      "          </td>\n",
      "          <td align=\"center\" class=\"bottomleft\">\n",
      "           <font size=\"1\">\n",
      "            <b>\n",
      "             <u>\n",
      "              2007\n",
      "             </u>\n",
      "            </b>\n",
      "           </font>\n",
      "          </td>\n",
      "          <td align=\"center\" class=\"bottomleft\">\n",
      "           <font size=\"1\">\n",
      "            <b>\n",
      "             <u>\n",
      "              2008\n",
      "             </u>\n",
      "            </b>\n",
      "           </font>\n",
      "          </td>\n",
      "          <td align=\"center\" class=\"bottomleft\">\n",
      "           <font size=\"1\">\n",
      "            <b>\n",
      "             <u>\n",
      "              2009\n",
      "             </u>\n",
      "            </b>\n",
      "           </font>\n",
      "          </td>\n",
      "          <td align=\"center\" class=\"bottomleft\">\n",
      "           <font size=\"1\">\n",
      "            <b>\n",
      "             <u>\n",
      "             </u>\n",
      "            </b>\n",
      "           </font>\n",
      "          </td>\n",
      "         </tr>\n",
      "         <tr>\n",
      "          <td align=\"right\" class=\"bottom\">\n",
      "           <font size=\"1\">\n",
      "            <i>\n",
      "             <b>\n",
      "              Per capita consumption of mozzarella cheese (US)\n",
      "             </b>\n",
      "             <br/>\n",
      "             Pounds (USDA)\n",
      "            </i>\n",
      "           </font>\n",
      "          </td>\n",
      "          <td align=\"center\" class=\"bottomleft\">\n",
      "           9.3\n",
      "          </td>\n",
      "          <td align=\"center\" class=\"bottomleft\">\n",
      "           9.7\n",
      "          </td>\n",
      "          <td align=\"center\" class=\"bottomleft\">\n",
      "           9.7\n",
      "          </td>\n",
      "          <td align=\"center\" class=\"bottomleft\">\n",
      "           9.7\n",
      "          </td>\n",
      "          <td align=\"center\" class=\"bottomleft\">\n",
      "           9.9\n",
      "          </td>\n",
      "          <td align=\"center\" class=\"bottomleft\">\n",
      "           10.2\n",
      "          </td>\n",
      "          <td align=\"center\" class=\"bottomleft\">\n",
      "           10.5\n",
      "          </td>\n",
      "          <td align=\"center\" class=\"bottomleft\">\n",
      "           11\n",
      "          </td>\n",
      "          <td align=\"center\" class=\"bottomleft\">\n",
      "           10.6\n",
      "          </td>\n",
      "          <td align=\"center\" class=\"bottomleft\">\n",
      "           10.6\n",
      "          </td>\n",
      "          <td align=\"center\" class=\"bottomleft\">\n",
      "          </td>\n",
      "         </tr>\n",
      "         <tr>\n",
      "          <td align=\"right\" class=\"bottom\">\n",
      "           <font size=\"1\">\n",
      "            <i>\n",
      "             <b>\n",
      "              Civil engineering doctorates awarded (US)\n",
      "             </b>\n",
      "             <br/>\n",
      "             Degrees awarded (National Science Foundation)\n",
      "            </i>\n",
      "           </font>\n",
      "          </td>\n",
      "          <td align=\"center\" class=\"bottomleft\">\n",
      "           480\n",
      "          </td>\n",
      "          <td align=\"center\" class=\"bottomleft\">\n",
      "           501\n",
      "          </td>\n",
      "          <td align=\"center\" class=\"bottomleft\">\n",
      "           540\n",
      "          </td>\n",
      "          <td align=\"center\" class=\"bottomleft\">\n",
      "           552\n",
      "          </td>\n",
      "          <td align=\"center\" class=\"bottomleft\">\n",
      "           547\n",
      "          </td>\n",
      "          <td align=\"center\" class=\"bottomleft\">\n",
      "           622\n",
      "          </td>\n",
      "          <td align=\"center\" class=\"bottomleft\">\n",
      "           655\n",
      "          </td>\n",
      "          <td align=\"center\" class=\"bottomleft\">\n",
      "           701\n",
      "          </td>\n",
      "          <td align=\"center\" class=\"bottomleft\">\n",
      "           712\n",
      "          </td>\n",
      "          <td align=\"center\" class=\"bottomleft\">\n",
      "           708\n",
      "          </td>\n",
      "          <td align=\"center\" class=\"bottomleft\">\n",
      "          </td>\n",
      "         </tr>\n",
      "         <tr>\n",
      "          <td colspan=\"2\">\n",
      "           <b>\n",
      "            Correlation: 0.958648\n",
      "           </b>\n",
      "          </td>\n",
      "         </tr>\n",
      "        </table>\n",
      "        <br/>\n",
      "        <center>\n",
      "         <a href=\"view_correlation?id=3890\">\n",
      "          Permalink\n",
      "         </a>\n",
      "         -\n",
      "         <a href=\"interesting?id=3890\">\n",
      "          Mark as interesting (15,270)\n",
      "         </a>\n",
      "         -\n",
      "         <a href=\"interesting?unmark=3890\">\n",
      "          Not interesting (7,217)\n",
      "         </a>\n",
      "         <br/>\n",
      "         <a href=\"http://tylervigen.com\">\n",
      "          View all correlations\n",
      "         </a>\n",
      "         -\n",
      "         <a href=\"discover\">\n",
      "          Discover a new correlation\n",
      "         </a>\n",
      "        </center>\n",
      "        <form action=\"correlation_project/sexy_chart\" method=\"POST\">\n",
      "         <input name=\"var_select\" type=\"hidden\" value=\"Per+capita+consumption+of+mozzarella+cheese+%28US%29\"/>\n",
      "         <input name=\"type_select\" type=\"hidden\" value=\"fun\"/>\n",
      "         <input name=\"second_select\" type=\"hidden\" value=\"excel+++Civil+engineering+doctorates+awarded+%28US%29\"/>\n",
      "         <input type=\"submit\" value=\"Re-Chart\"/>\n",
      "        </form>\n",
      "       </td>\n",
      "      </tr>\n",
      "     </table>\n",
      "     <script>\n",
      "      (function(i,s,o,g,r,a,m){i['GoogleAnalyticsObject']=r;i[r]=i[r]||function(){\n",
      "  (i[r].q=i[r].q||[]).push(arguments)},i[r].l=1*new Date();a=s.createElement(o),\n",
      "  m=s.getElementsByTagName(o)[0];a.async=1;a.src=g;m.parentNode.insertBefore(a,m)\n",
      "  })(window,document,'script','//www.google-analytics.com/analytics.js','ga');\n",
      "\n",
      "  ga('create', 'UA-50890993-1', 'tylervigen.com');\n",
      "  ga('send', 'pageview');\n",
      "     </script>\n",
      "    </td>\n",
      "   </tr>\n",
      "  </table>\n",
      "  <br/>\n",
      "  <center>\n",
      "   <font color=\"#777777\" size=\"1\">\n",
      "    Most recent correlation:\n",
      "    <a href=\"view_correlation?id=88785\">\n",
      "     Women receiving STEM masters correlates with Drivers killed in collision with heavy vehicle or bus\n",
      "    </a>\n",
      "    <br/>\n",
      "    The chart on this page was generated automatically. In total, this server has generated\n",
      "    <a href=\"http://tylervigen.com/\">\n",
      "     88,572 correlations\n",
      "    </a>\n",
      "    .\n",
      "    <br/>\n",
      "    <a href=\"https://creativecommons.org/licenses/by/4.0/\" target=\"_blank\">\n",
      "     Copyleft notice: You are free to copy and adapt everything on this site\n",
      "    </a>\n",
      "    <br/>\n",
      "    tylervigen.com\n",
      "   </font>\n",
      "   <br/>\n",
      "   <a href=\"interesting?delete=3890\" target=\"_blank\">\n",
      "    <font color=\"#EDEDED\" size=\"1\">\n",
      "     Delete\n",
      "    </font>\n",
      "   </a>\n",
      "  </center>\n",
      "  <br/>\n",
      "  <br/>\n",
      " </body>\n",
      "</html>\n"
     ]
    }
   ],
   "source": [
    "soup = BeautifulSoup(x.text)\n",
    "print(soup.prettify())"
   ]
  },
  {
   "cell_type": "code",
   "execution_count": 14,
   "metadata": {},
   "outputs": [],
   "source": [
    "#s_table = soup.find_all('table')"
   ]
  },
  {
   "cell_type": "code",
   "execution_count": 28,
   "metadata": {},
   "outputs": [],
   "source": [
    "s1 = list(soup.children)\n",
    "s2 = s1[0]\n",
    "s3 = list(s2.children)"
   ]
  },
  {
   "cell_type": "code",
   "execution_count": 30,
   "metadata": {},
   "outputs": [
    {
     "name": "stdout",
     "output_type": "stream",
     "text": [
      "<class 'bs4.element.Tag'>\n",
      "<head>\n",
      "<link href=\"correlate.png\" rel=\"image_src\"/>\n",
      "<meta content=\"Per capita consumption of mozzarella cheese (US) correlates with Civil engineering doctorates awarded (US)\" name=\"title\"/>\n",
      "<meta content=\"Can you come up with a causal mechanism?\" name=\"description\"/>\n",
      "<title>Per capita consumption of mozzarella cheese (US) correlates with Civil engineering doctorates awarded (US)</title>\n",
      "<style type=\"text/css\">\n",
      "table {\n",
      "border-spacing: 0px;\n",
      "border-color: gray;\n",
      "}\n",
      "a:link    {color:79c000;text-decoration:none;}\n",
      "a:visited {color:79c000;text-decoration:none;}\n",
      "a:hover   {color:0079c0;text-decoration:none;}\n",
      "a:active  {color:79c000;text-decoration:none;}\n",
      ".variable{\n",
      "\tfont-size: 24px;\n",
      "\tfont-weight:bold;\n",
      "\tcolor:0079C0;\n",
      "}\n",
      "a.variable:link    {color:0079C0;text-decoration:none;}\n",
      "a.variable:visited {color:0079C0;text-decoration:none;}\n",
      "a.variable:hover   {color:79c000;text-decoration:none;}\n",
      "a.variable:active  {color:0079C0;text-decoration:none;}\n",
      ".title{\n",
      "\tfont-size: 28px;\n",
      "\tfont-weight:bold;\n",
      "\tcolor:0079C0;\n",
      "}\n",
      "\n",
      "body {\n",
      "font-family: \"Trebuchet MS\", Helvetica, sans-serif;\n",
      "margin:0; \n",
      "padding:0;\n",
      "font-size:12px;\n",
      "background-image:url(\"dot.png\");\n",
      "\n",
      "background: -moz-linear-gradient (left, magenta, yellow); background: -webkit-gradient(linear, left top, right bottom, color-stop(0.0, magenta), color-stop(1.0,yellow));\n",
      "\n",
      "  background: -webkit-gradient(radial, center center, 0, center center, 460, from(#FFFFFF), to(#DDDDDD));\n",
      "  background: -webkit-radial-gradient(circle, #FFFFFF, #DDDDDD);\n",
      "  background: -moz-radial-gradient(circle, #FFFFFF, #DDDDDD);\n",
      "  background: -ms-radial-gradient(circle, #FFFFFF, #DDDDDD);\n",
      "\n",
      "}\n",
      "\n",
      ".container{\n",
      "border: 2px dashed #219AE1;\n",
      "border-radius:10px;\n",
      "//box-shadow: 3px 3px 5px #909090;\n",
      "\n",
      "}\n",
      "\n",
      ".alldata{\n",
      "border: 1px dotted #219AE1;\n",
      "border-radius:10px;\n",
      "//box-shadow: 3px 3px 5px #909090;\n",
      "}\n",
      "\n",
      "\n",
      ".bottom{\n",
      "border-bottom: 1px dotted #219AE1;\n",
      "//box-shadow: 3px 3px 5px #909090;\n",
      "}\n",
      "\n",
      ".bottomleft{\n",
      "border-bottom: 1px dotted #219AE1;\n",
      "border-left: 1px dotted #219AE1;\n",
      "//box-shadow: 3px 3px 5px #909090;\n",
      "}\n",
      "\n",
      ".left{\n",
      "border-left: 1px dotted #219AE1;\n",
      "//box-shadow: 3px 3px 5px #909090;\n",
      "}\n",
      "\n",
      "</style>\n",
      "<link href=\"favicon.ico\" rel=\"icon\" type=\"image/x-icon\"/>\n",
      "<link href=\"favicon.ico\" rel=\"shortcut icon\" type=\"image/x-icon\"/>\n",
      "<meta content=\"width=device-width, initial-scale=1.0\" name=\"viewport\"/>\n",
      "</head>\n",
      "----\n",
      "<class 'bs4.element.Tag'>\n",
      "<body>\n",
      "<table align=\"center\" width=\"65%\">\n",
      "<tr><td align=\"center\" style=\"vertical-align:top\">\n",
      "<a href=\"http://tylervigen.com\"><img border=\"0\" src=\"correlation_project/thingsthatcorrelate.png\"/></a><br/><br/></td></tr>\n",
      "<tr>\n",
      "<td style=\"vertical-align:top\">\n",
      "<table cellpadding=\"15\" class=\"container\" width=\"100%\"><tr><td align=\"center\"><a class=\"variable\" href=\"discover?type_select=fun&amp;link_var=Per+capita+consumption+of+mozzarella+cheese+%28US%29&amp;exclude_county=ON\">Per capita consumption of mozzarella cheese (US)</a><br/> correlates with<br/><a class=\"variable\" href=\"discover?type_select=excel&amp;link_var=Civil+engineering+doctorates+awarded+%28US%29&amp;exclude_county=ON\">Civil engineering doctorates awarded (US)</a><br/><br/><img src=\"correlation_project/correlation_images/per-capita-consumption-of-mozzarella-cheese-us_civil-engineering-doctorates-awarded-us.png\"/><br/><a href=\"http://imgur.com/upload?url=http://tylervigen.com/correlation_project/correlation_images/per-capita-consumption-of-mozzarella-cheese-us_civil-engineering-doctorates-awarded-us.png\" target=\"_blank\"><font size=\"1\">Upload this image to imgur</font></a><br/><br/><table cellpadding=\"5\" class=\"alldata\"><tr><td class=\"bottom\"></td><td align=\"center\" class=\"bottomleft\"><font size=\"1\"><b><u>2000</u></b></font></td><td align=\"center\" class=\"bottomleft\"><font size=\"1\"><b><u>2001</u></b></font></td><td align=\"center\" class=\"bottomleft\"><font size=\"1\"><b><u>2002</u></b></font></td><td align=\"center\" class=\"bottomleft\"><font size=\"1\"><b><u>2003</u></b></font></td><td align=\"center\" class=\"bottomleft\"><font size=\"1\"><b><u>2004</u></b></font></td><td align=\"center\" class=\"bottomleft\"><font size=\"1\"><b><u>2005</u></b></font></td><td align=\"center\" class=\"bottomleft\"><font size=\"1\"><b><u>2006</u></b></font></td><td align=\"center\" class=\"bottomleft\"><font size=\"1\"><b><u>2007</u></b></font></td><td align=\"center\" class=\"bottomleft\"><font size=\"1\"><b><u>2008</u></b></font></td><td align=\"center\" class=\"bottomleft\"><font size=\"1\"><b><u>2009</u></b></font></td><td align=\"center\" class=\"bottomleft\"><font size=\"1\"><b><u></u></b></font></td></tr><tr><td align=\"right\" class=\"bottom\"><font size=\"1\"><i><b>Per capita consumption of mozzarella cheese (US)</b><br/>Pounds (USDA)</i></font></td><td align=\"center\" class=\"bottomleft\">9.3</td><td align=\"center\" class=\"bottomleft\">9.7</td><td align=\"center\" class=\"bottomleft\">9.7</td><td align=\"center\" class=\"bottomleft\">9.7</td><td align=\"center\" class=\"bottomleft\">9.9</td><td align=\"center\" class=\"bottomleft\">10.2</td><td align=\"center\" class=\"bottomleft\">10.5</td><td align=\"center\" class=\"bottomleft\">11</td><td align=\"center\" class=\"bottomleft\">10.6</td><td align=\"center\" class=\"bottomleft\">10.6</td><td align=\"center\" class=\"bottomleft\"></td></tr><tr><td align=\"right\" class=\"bottom\"><font size=\"1\"><i><b>Civil engineering doctorates awarded (US)</b><br/>Degrees awarded (National Science Foundation)</i></font></td><td align=\"center\" class=\"bottomleft\">480</td><td align=\"center\" class=\"bottomleft\">501</td><td align=\"center\" class=\"bottomleft\">540</td><td align=\"center\" class=\"bottomleft\">552</td><td align=\"center\" class=\"bottomleft\">547</td><td align=\"center\" class=\"bottomleft\">622</td><td align=\"center\" class=\"bottomleft\">655</td><td align=\"center\" class=\"bottomleft\">701</td><td align=\"center\" class=\"bottomleft\">712</td><td align=\"center\" class=\"bottomleft\">708</td><td align=\"center\" class=\"bottomleft\"></td></tr><tr><td colspan=\"2\"><b>Correlation: 0.958648</b></td></tr></table><br/><center><a href=\"view_correlation?id=3890\">Permalink</a>\t- <a href=\"interesting?id=3890\">Mark as interesting (15,270)</a>\t- <a href=\"interesting?unmark=3890\">Not interesting (7,217)</a><br/><a href=\"http://tylervigen.com\">View all correlations</a> - <a href=\"discover\">Discover a new correlation</a></center><form action=\"correlation_project/sexy_chart\" method=\"POST\">\n",
      "<input name=\"var_select\" type=\"hidden\" value=\"Per+capita+consumption+of+mozzarella+cheese+%28US%29\"/>\n",
      "<input name=\"type_select\" type=\"hidden\" value=\"fun\"/>\n",
      "<input name=\"second_select\" type=\"hidden\" value=\"excel+++Civil+engineering+doctorates+awarded+%28US%29\"/><input type=\"submit\" value=\"Re-Chart\"/></form></td></tr></table><script>\n",
      "  (function(i,s,o,g,r,a,m){i['GoogleAnalyticsObject']=r;i[r]=i[r]||function(){\n",
      "  (i[r].q=i[r].q||[]).push(arguments)},i[r].l=1*new Date();a=s.createElement(o),\n",
      "  m=s.getElementsByTagName(o)[0];a.async=1;a.src=g;m.parentNode.insertBefore(a,m)\n",
      "  })(window,document,'script','//www.google-analytics.com/analytics.js','ga');\n",
      "\n",
      "  ga('create', 'UA-50890993-1', 'tylervigen.com');\n",
      "  ga('send', 'pageview');\n",
      "\n",
      "</script></td></tr></table>\n",
      "<br/><center><font color=\"#777777\" size=\"1\">Most recent correlation: <a href=\"view_correlation?id=88785\">Women receiving STEM masters correlates with Drivers killed in collision with heavy vehicle or bus</a><br/>The chart on this page was generated automatically. In total, this server has generated <a href=\"http://tylervigen.com/\">88,572 correlations</a>.<br/><a href=\"https://creativecommons.org/licenses/by/4.0/\" target=\"_blank\">Copyleft notice: You are free to copy and adapt everything on this site</a><br/>tylervigen.com</font><br/><a href=\"interesting?delete=3890\" target=\"_blank\"><font color=\"#EDEDED\" size=\"1\">Delete</font></a></center><br/><br/></body>\n",
      "----\n"
     ]
    }
   ],
   "source": [
    "for i in s3:\n",
    "    print(type(i))\n",
    "    print(i)\n",
    "    print('----')"
   ]
  },
  {
   "cell_type": "code",
   "execution_count": 32,
   "metadata": {},
   "outputs": [
    {
     "name": "stdout",
     "output_type": "stream",
     "text": [
      "7\n"
     ]
    }
   ],
   "source": [
    "s4 = s3[1]\n",
    "s5 = list(s4.children)\n",
    "print(len(s5))"
   ]
  },
  {
   "cell_type": "code",
   "execution_count": 33,
   "metadata": {},
   "outputs": [
    {
     "name": "stdout",
     "output_type": "stream",
     "text": [
      "<class 'bs4.element.NavigableString'>\n",
      "\n",
      "\n",
      "-----\n",
      "<class 'bs4.element.Tag'>\n",
      "<table align=\"center\" width=\"65%\">\n",
      "<tr><td align=\"center\" style=\"vertical-align:top\">\n",
      "<a href=\"http://tylervigen.com\"><img border=\"0\" src=\"correlation_project/thingsthatcorrelate.png\"/></a><br/><br/></td></tr>\n",
      "<tr>\n",
      "<td style=\"vertical-align:top\">\n",
      "<table cellpadding=\"15\" class=\"container\" width=\"100%\"><tr><td align=\"center\"><a class=\"variable\" href=\"discover?type_select=fun&amp;link_var=Per+capita+consumption+of+mozzarella+cheese+%28US%29&amp;exclude_county=ON\">Per capita consumption of mozzarella cheese (US)</a><br/> correlates with<br/><a class=\"variable\" href=\"discover?type_select=excel&amp;link_var=Civil+engineering+doctorates+awarded+%28US%29&amp;exclude_county=ON\">Civil engineering doctorates awarded (US)</a><br/><br/><img src=\"correlation_project/correlation_images/per-capita-consumption-of-mozzarella-cheese-us_civil-engineering-doctorates-awarded-us.png\"/><br/><a href=\"http://imgur.com/upload?url=http://tylervigen.com/correlation_project/correlation_images/per-capita-consumption-of-mozzarella-cheese-us_civil-engineering-doctorates-awarded-us.png\" target=\"_blank\"><font size=\"1\">Upload this image to imgur</font></a><br/><br/><table cellpadding=\"5\" class=\"alldata\"><tr><td class=\"bottom\"></td><td align=\"center\" class=\"bottomleft\"><font size=\"1\"><b><u>2000</u></b></font></td><td align=\"center\" class=\"bottomleft\"><font size=\"1\"><b><u>2001</u></b></font></td><td align=\"center\" class=\"bottomleft\"><font size=\"1\"><b><u>2002</u></b></font></td><td align=\"center\" class=\"bottomleft\"><font size=\"1\"><b><u>2003</u></b></font></td><td align=\"center\" class=\"bottomleft\"><font size=\"1\"><b><u>2004</u></b></font></td><td align=\"center\" class=\"bottomleft\"><font size=\"1\"><b><u>2005</u></b></font></td><td align=\"center\" class=\"bottomleft\"><font size=\"1\"><b><u>2006</u></b></font></td><td align=\"center\" class=\"bottomleft\"><font size=\"1\"><b><u>2007</u></b></font></td><td align=\"center\" class=\"bottomleft\"><font size=\"1\"><b><u>2008</u></b></font></td><td align=\"center\" class=\"bottomleft\"><font size=\"1\"><b><u>2009</u></b></font></td><td align=\"center\" class=\"bottomleft\"><font size=\"1\"><b><u></u></b></font></td></tr><tr><td align=\"right\" class=\"bottom\"><font size=\"1\"><i><b>Per capita consumption of mozzarella cheese (US)</b><br/>Pounds (USDA)</i></font></td><td align=\"center\" class=\"bottomleft\">9.3</td><td align=\"center\" class=\"bottomleft\">9.7</td><td align=\"center\" class=\"bottomleft\">9.7</td><td align=\"center\" class=\"bottomleft\">9.7</td><td align=\"center\" class=\"bottomleft\">9.9</td><td align=\"center\" class=\"bottomleft\">10.2</td><td align=\"center\" class=\"bottomleft\">10.5</td><td align=\"center\" class=\"bottomleft\">11</td><td align=\"center\" class=\"bottomleft\">10.6</td><td align=\"center\" class=\"bottomleft\">10.6</td><td align=\"center\" class=\"bottomleft\"></td></tr><tr><td align=\"right\" class=\"bottom\"><font size=\"1\"><i><b>Civil engineering doctorates awarded (US)</b><br/>Degrees awarded (National Science Foundation)</i></font></td><td align=\"center\" class=\"bottomleft\">480</td><td align=\"center\" class=\"bottomleft\">501</td><td align=\"center\" class=\"bottomleft\">540</td><td align=\"center\" class=\"bottomleft\">552</td><td align=\"center\" class=\"bottomleft\">547</td><td align=\"center\" class=\"bottomleft\">622</td><td align=\"center\" class=\"bottomleft\">655</td><td align=\"center\" class=\"bottomleft\">701</td><td align=\"center\" class=\"bottomleft\">712</td><td align=\"center\" class=\"bottomleft\">708</td><td align=\"center\" class=\"bottomleft\"></td></tr><tr><td colspan=\"2\"><b>Correlation: 0.958648</b></td></tr></table><br/><center><a href=\"view_correlation?id=3890\">Permalink</a>\t- <a href=\"interesting?id=3890\">Mark as interesting (15,270)</a>\t- <a href=\"interesting?unmark=3890\">Not interesting (7,217)</a><br/><a href=\"http://tylervigen.com\">View all correlations</a> - <a href=\"discover\">Discover a new correlation</a></center><form action=\"correlation_project/sexy_chart\" method=\"POST\">\n",
      "<input name=\"var_select\" type=\"hidden\" value=\"Per+capita+consumption+of+mozzarella+cheese+%28US%29\"/>\n",
      "<input name=\"type_select\" type=\"hidden\" value=\"fun\"/>\n",
      "<input name=\"second_select\" type=\"hidden\" value=\"excel+++Civil+engineering+doctorates+awarded+%28US%29\"/><input type=\"submit\" value=\"Re-Chart\"/></form></td></tr></table><script>\n",
      "  (function(i,s,o,g,r,a,m){i['GoogleAnalyticsObject']=r;i[r]=i[r]||function(){\n",
      "  (i[r].q=i[r].q||[]).push(arguments)},i[r].l=1*new Date();a=s.createElement(o),\n",
      "  m=s.getElementsByTagName(o)[0];a.async=1;a.src=g;m.parentNode.insertBefore(a,m)\n",
      "  })(window,document,'script','//www.google-analytics.com/analytics.js','ga');\n",
      "\n",
      "  ga('create', 'UA-50890993-1', 'tylervigen.com');\n",
      "  ga('send', 'pageview');\n",
      "\n",
      "</script></td></tr></table>\n",
      "-----\n",
      "<class 'bs4.element.NavigableString'>\n",
      "\n",
      "\n",
      "-----\n",
      "<class 'bs4.element.Tag'>\n",
      "<br/>\n",
      "-----\n",
      "<class 'bs4.element.Tag'>\n",
      "<center><font color=\"#777777\" size=\"1\">Most recent correlation: <a href=\"view_correlation?id=88785\">Women receiving STEM masters correlates with Drivers killed in collision with heavy vehicle or bus</a><br/>The chart on this page was generated automatically. In total, this server has generated <a href=\"http://tylervigen.com/\">88,572 correlations</a>.<br/><a href=\"https://creativecommons.org/licenses/by/4.0/\" target=\"_blank\">Copyleft notice: You are free to copy and adapt everything on this site</a><br/>tylervigen.com</font><br/><a href=\"interesting?delete=3890\" target=\"_blank\"><font color=\"#EDEDED\" size=\"1\">Delete</font></a></center>\n",
      "-----\n",
      "<class 'bs4.element.Tag'>\n",
      "<br/>\n",
      "-----\n",
      "<class 'bs4.element.Tag'>\n",
      "<br/>\n",
      "-----\n"
     ]
    }
   ],
   "source": [
    "for i in s4:\n",
    "    print(type(i))\n",
    "    print(i)\n",
    "    print('-----')"
   ]
  },
  {
   "cell_type": "code",
   "execution_count": 34,
   "metadata": {},
   "outputs": [
    {
     "name": "stdout",
     "output_type": "stream",
     "text": [
      "4\n"
     ]
    }
   ],
   "source": [
    "s6 = s5[1]\n",
    "s7 = list(s6.children)\n",
    "print(len(s7))"
   ]
  },
  {
   "cell_type": "code",
   "execution_count": 35,
   "metadata": {},
   "outputs": [
    {
     "name": "stdout",
     "output_type": "stream",
     "text": [
      "<class 'bs4.element.NavigableString'>\n",
      "\n",
      "\n",
      "-----\n",
      "<class 'bs4.element.Tag'>\n",
      "<tr><td align=\"center\" style=\"vertical-align:top\">\n",
      "<a href=\"http://tylervigen.com\"><img border=\"0\" src=\"correlation_project/thingsthatcorrelate.png\"/></a><br/><br/></td></tr>\n",
      "-----\n",
      "<class 'bs4.element.NavigableString'>\n",
      "\n",
      "\n",
      "-----\n",
      "<class 'bs4.element.Tag'>\n",
      "<tr>\n",
      "<td style=\"vertical-align:top\">\n",
      "<table cellpadding=\"15\" class=\"container\" width=\"100%\"><tr><td align=\"center\"><a class=\"variable\" href=\"discover?type_select=fun&amp;link_var=Per+capita+consumption+of+mozzarella+cheese+%28US%29&amp;exclude_county=ON\">Per capita consumption of mozzarella cheese (US)</a><br/> correlates with<br/><a class=\"variable\" href=\"discover?type_select=excel&amp;link_var=Civil+engineering+doctorates+awarded+%28US%29&amp;exclude_county=ON\">Civil engineering doctorates awarded (US)</a><br/><br/><img src=\"correlation_project/correlation_images/per-capita-consumption-of-mozzarella-cheese-us_civil-engineering-doctorates-awarded-us.png\"/><br/><a href=\"http://imgur.com/upload?url=http://tylervigen.com/correlation_project/correlation_images/per-capita-consumption-of-mozzarella-cheese-us_civil-engineering-doctorates-awarded-us.png\" target=\"_blank\"><font size=\"1\">Upload this image to imgur</font></a><br/><br/><table cellpadding=\"5\" class=\"alldata\"><tr><td class=\"bottom\"></td><td align=\"center\" class=\"bottomleft\"><font size=\"1\"><b><u>2000</u></b></font></td><td align=\"center\" class=\"bottomleft\"><font size=\"1\"><b><u>2001</u></b></font></td><td align=\"center\" class=\"bottomleft\"><font size=\"1\"><b><u>2002</u></b></font></td><td align=\"center\" class=\"bottomleft\"><font size=\"1\"><b><u>2003</u></b></font></td><td align=\"center\" class=\"bottomleft\"><font size=\"1\"><b><u>2004</u></b></font></td><td align=\"center\" class=\"bottomleft\"><font size=\"1\"><b><u>2005</u></b></font></td><td align=\"center\" class=\"bottomleft\"><font size=\"1\"><b><u>2006</u></b></font></td><td align=\"center\" class=\"bottomleft\"><font size=\"1\"><b><u>2007</u></b></font></td><td align=\"center\" class=\"bottomleft\"><font size=\"1\"><b><u>2008</u></b></font></td><td align=\"center\" class=\"bottomleft\"><font size=\"1\"><b><u>2009</u></b></font></td><td align=\"center\" class=\"bottomleft\"><font size=\"1\"><b><u></u></b></font></td></tr><tr><td align=\"right\" class=\"bottom\"><font size=\"1\"><i><b>Per capita consumption of mozzarella cheese (US)</b><br/>Pounds (USDA)</i></font></td><td align=\"center\" class=\"bottomleft\">9.3</td><td align=\"center\" class=\"bottomleft\">9.7</td><td align=\"center\" class=\"bottomleft\">9.7</td><td align=\"center\" class=\"bottomleft\">9.7</td><td align=\"center\" class=\"bottomleft\">9.9</td><td align=\"center\" class=\"bottomleft\">10.2</td><td align=\"center\" class=\"bottomleft\">10.5</td><td align=\"center\" class=\"bottomleft\">11</td><td align=\"center\" class=\"bottomleft\">10.6</td><td align=\"center\" class=\"bottomleft\">10.6</td><td align=\"center\" class=\"bottomleft\"></td></tr><tr><td align=\"right\" class=\"bottom\"><font size=\"1\"><i><b>Civil engineering doctorates awarded (US)</b><br/>Degrees awarded (National Science Foundation)</i></font></td><td align=\"center\" class=\"bottomleft\">480</td><td align=\"center\" class=\"bottomleft\">501</td><td align=\"center\" class=\"bottomleft\">540</td><td align=\"center\" class=\"bottomleft\">552</td><td align=\"center\" class=\"bottomleft\">547</td><td align=\"center\" class=\"bottomleft\">622</td><td align=\"center\" class=\"bottomleft\">655</td><td align=\"center\" class=\"bottomleft\">701</td><td align=\"center\" class=\"bottomleft\">712</td><td align=\"center\" class=\"bottomleft\">708</td><td align=\"center\" class=\"bottomleft\"></td></tr><tr><td colspan=\"2\"><b>Correlation: 0.958648</b></td></tr></table><br/><center><a href=\"view_correlation?id=3890\">Permalink</a>\t- <a href=\"interesting?id=3890\">Mark as interesting (15,270)</a>\t- <a href=\"interesting?unmark=3890\">Not interesting (7,217)</a><br/><a href=\"http://tylervigen.com\">View all correlations</a> - <a href=\"discover\">Discover a new correlation</a></center><form action=\"correlation_project/sexy_chart\" method=\"POST\">\n",
      "<input name=\"var_select\" type=\"hidden\" value=\"Per+capita+consumption+of+mozzarella+cheese+%28US%29\"/>\n",
      "<input name=\"type_select\" type=\"hidden\" value=\"fun\"/>\n",
      "<input name=\"second_select\" type=\"hidden\" value=\"excel+++Civil+engineering+doctorates+awarded+%28US%29\"/><input type=\"submit\" value=\"Re-Chart\"/></form></td></tr></table><script>\n",
      "  (function(i,s,o,g,r,a,m){i['GoogleAnalyticsObject']=r;i[r]=i[r]||function(){\n",
      "  (i[r].q=i[r].q||[]).push(arguments)},i[r].l=1*new Date();a=s.createElement(o),\n",
      "  m=s.getElementsByTagName(o)[0];a.async=1;a.src=g;m.parentNode.insertBefore(a,m)\n",
      "  })(window,document,'script','//www.google-analytics.com/analytics.js','ga');\n",
      "\n",
      "  ga('create', 'UA-50890993-1', 'tylervigen.com');\n",
      "  ga('send', 'pageview');\n",
      "\n",
      "</script></td></tr>\n",
      "-----\n"
     ]
    }
   ],
   "source": [
    "for i in s7:\n",
    "    print(type(i))\n",
    "    print(i)\n",
    "    print('-----')"
   ]
  },
  {
   "cell_type": "code",
   "execution_count": 36,
   "metadata": {},
   "outputs": [
    {
     "name": "stdout",
     "output_type": "stream",
     "text": [
      "2\n"
     ]
    }
   ],
   "source": [
    "s8 = s7[3]\n",
    "s9 = list(s8.children)\n",
    "print(len(s9))"
   ]
  },
  {
   "cell_type": "code",
   "execution_count": 37,
   "metadata": {},
   "outputs": [
    {
     "name": "stdout",
     "output_type": "stream",
     "text": [
      "<class 'bs4.element.NavigableString'>\n",
      "\n",
      "\n",
      "-----\n",
      "<class 'bs4.element.Tag'>\n",
      "<td style=\"vertical-align:top\">\n",
      "<table cellpadding=\"15\" class=\"container\" width=\"100%\"><tr><td align=\"center\"><a class=\"variable\" href=\"discover?type_select=fun&amp;link_var=Per+capita+consumption+of+mozzarella+cheese+%28US%29&amp;exclude_county=ON\">Per capita consumption of mozzarella cheese (US)</a><br/> correlates with<br/><a class=\"variable\" href=\"discover?type_select=excel&amp;link_var=Civil+engineering+doctorates+awarded+%28US%29&amp;exclude_county=ON\">Civil engineering doctorates awarded (US)</a><br/><br/><img src=\"correlation_project/correlation_images/per-capita-consumption-of-mozzarella-cheese-us_civil-engineering-doctorates-awarded-us.png\"/><br/><a href=\"http://imgur.com/upload?url=http://tylervigen.com/correlation_project/correlation_images/per-capita-consumption-of-mozzarella-cheese-us_civil-engineering-doctorates-awarded-us.png\" target=\"_blank\"><font size=\"1\">Upload this image to imgur</font></a><br/><br/><table cellpadding=\"5\" class=\"alldata\"><tr><td class=\"bottom\"></td><td align=\"center\" class=\"bottomleft\"><font size=\"1\"><b><u>2000</u></b></font></td><td align=\"center\" class=\"bottomleft\"><font size=\"1\"><b><u>2001</u></b></font></td><td align=\"center\" class=\"bottomleft\"><font size=\"1\"><b><u>2002</u></b></font></td><td align=\"center\" class=\"bottomleft\"><font size=\"1\"><b><u>2003</u></b></font></td><td align=\"center\" class=\"bottomleft\"><font size=\"1\"><b><u>2004</u></b></font></td><td align=\"center\" class=\"bottomleft\"><font size=\"1\"><b><u>2005</u></b></font></td><td align=\"center\" class=\"bottomleft\"><font size=\"1\"><b><u>2006</u></b></font></td><td align=\"center\" class=\"bottomleft\"><font size=\"1\"><b><u>2007</u></b></font></td><td align=\"center\" class=\"bottomleft\"><font size=\"1\"><b><u>2008</u></b></font></td><td align=\"center\" class=\"bottomleft\"><font size=\"1\"><b><u>2009</u></b></font></td><td align=\"center\" class=\"bottomleft\"><font size=\"1\"><b><u></u></b></font></td></tr><tr><td align=\"right\" class=\"bottom\"><font size=\"1\"><i><b>Per capita consumption of mozzarella cheese (US)</b><br/>Pounds (USDA)</i></font></td><td align=\"center\" class=\"bottomleft\">9.3</td><td align=\"center\" class=\"bottomleft\">9.7</td><td align=\"center\" class=\"bottomleft\">9.7</td><td align=\"center\" class=\"bottomleft\">9.7</td><td align=\"center\" class=\"bottomleft\">9.9</td><td align=\"center\" class=\"bottomleft\">10.2</td><td align=\"center\" class=\"bottomleft\">10.5</td><td align=\"center\" class=\"bottomleft\">11</td><td align=\"center\" class=\"bottomleft\">10.6</td><td align=\"center\" class=\"bottomleft\">10.6</td><td align=\"center\" class=\"bottomleft\"></td></tr><tr><td align=\"right\" class=\"bottom\"><font size=\"1\"><i><b>Civil engineering doctorates awarded (US)</b><br/>Degrees awarded (National Science Foundation)</i></font></td><td align=\"center\" class=\"bottomleft\">480</td><td align=\"center\" class=\"bottomleft\">501</td><td align=\"center\" class=\"bottomleft\">540</td><td align=\"center\" class=\"bottomleft\">552</td><td align=\"center\" class=\"bottomleft\">547</td><td align=\"center\" class=\"bottomleft\">622</td><td align=\"center\" class=\"bottomleft\">655</td><td align=\"center\" class=\"bottomleft\">701</td><td align=\"center\" class=\"bottomleft\">712</td><td align=\"center\" class=\"bottomleft\">708</td><td align=\"center\" class=\"bottomleft\"></td></tr><tr><td colspan=\"2\"><b>Correlation: 0.958648</b></td></tr></table><br/><center><a href=\"view_correlation?id=3890\">Permalink</a>\t- <a href=\"interesting?id=3890\">Mark as interesting (15,270)</a>\t- <a href=\"interesting?unmark=3890\">Not interesting (7,217)</a><br/><a href=\"http://tylervigen.com\">View all correlations</a> - <a href=\"discover\">Discover a new correlation</a></center><form action=\"correlation_project/sexy_chart\" method=\"POST\">\n",
      "<input name=\"var_select\" type=\"hidden\" value=\"Per+capita+consumption+of+mozzarella+cheese+%28US%29\"/>\n",
      "<input name=\"type_select\" type=\"hidden\" value=\"fun\"/>\n",
      "<input name=\"second_select\" type=\"hidden\" value=\"excel+++Civil+engineering+doctorates+awarded+%28US%29\"/><input type=\"submit\" value=\"Re-Chart\"/></form></td></tr></table><script>\n",
      "  (function(i,s,o,g,r,a,m){i['GoogleAnalyticsObject']=r;i[r]=i[r]||function(){\n",
      "  (i[r].q=i[r].q||[]).push(arguments)},i[r].l=1*new Date();a=s.createElement(o),\n",
      "  m=s.getElementsByTagName(o)[0];a.async=1;a.src=g;m.parentNode.insertBefore(a,m)\n",
      "  })(window,document,'script','//www.google-analytics.com/analytics.js','ga');\n",
      "\n",
      "  ga('create', 'UA-50890993-1', 'tylervigen.com');\n",
      "  ga('send', 'pageview');\n",
      "\n",
      "</script></td>\n",
      "-----\n"
     ]
    }
   ],
   "source": [
    "for i in s9:\n",
    "    print(type(i))\n",
    "    print(i)\n",
    "    print('-----')"
   ]
  },
  {
   "cell_type": "code",
   "execution_count": 38,
   "metadata": {},
   "outputs": [
    {
     "name": "stdout",
     "output_type": "stream",
     "text": [
      "3\n"
     ]
    }
   ],
   "source": [
    "s10 = s9[1]\n",
    "s11 = list(s10.children)\n",
    "print(len(s11))"
   ]
  },
  {
   "cell_type": "code",
   "execution_count": 40,
   "metadata": {},
   "outputs": [
    {
     "name": "stdout",
     "output_type": "stream",
     "text": [
      "<class 'bs4.element.NavigableString'>\n",
      "\n",
      "\n",
      "-----\n",
      "<class 'bs4.element.Tag'>\n",
      "<table cellpadding=\"15\" class=\"container\" width=\"100%\"><tr><td align=\"center\"><a class=\"variable\" href=\"discover?type_select=fun&amp;link_var=Per+capita+consumption+of+mozzarella+cheese+%28US%29&amp;exclude_county=ON\">Per capita consumption of mozzarella cheese (US)</a><br/> correlates with<br/><a class=\"variable\" href=\"discover?type_select=excel&amp;link_var=Civil+engineering+doctorates+awarded+%28US%29&amp;exclude_county=ON\">Civil engineering doctorates awarded (US)</a><br/><br/><img src=\"correlation_project/correlation_images/per-capita-consumption-of-mozzarella-cheese-us_civil-engineering-doctorates-awarded-us.png\"/><br/><a href=\"http://imgur.com/upload?url=http://tylervigen.com/correlation_project/correlation_images/per-capita-consumption-of-mozzarella-cheese-us_civil-engineering-doctorates-awarded-us.png\" target=\"_blank\"><font size=\"1\">Upload this image to imgur</font></a><br/><br/><table cellpadding=\"5\" class=\"alldata\"><tr><td class=\"bottom\"></td><td align=\"center\" class=\"bottomleft\"><font size=\"1\"><b><u>2000</u></b></font></td><td align=\"center\" class=\"bottomleft\"><font size=\"1\"><b><u>2001</u></b></font></td><td align=\"center\" class=\"bottomleft\"><font size=\"1\"><b><u>2002</u></b></font></td><td align=\"center\" class=\"bottomleft\"><font size=\"1\"><b><u>2003</u></b></font></td><td align=\"center\" class=\"bottomleft\"><font size=\"1\"><b><u>2004</u></b></font></td><td align=\"center\" class=\"bottomleft\"><font size=\"1\"><b><u>2005</u></b></font></td><td align=\"center\" class=\"bottomleft\"><font size=\"1\"><b><u>2006</u></b></font></td><td align=\"center\" class=\"bottomleft\"><font size=\"1\"><b><u>2007</u></b></font></td><td align=\"center\" class=\"bottomleft\"><font size=\"1\"><b><u>2008</u></b></font></td><td align=\"center\" class=\"bottomleft\"><font size=\"1\"><b><u>2009</u></b></font></td><td align=\"center\" class=\"bottomleft\"><font size=\"1\"><b><u></u></b></font></td></tr><tr><td align=\"right\" class=\"bottom\"><font size=\"1\"><i><b>Per capita consumption of mozzarella cheese (US)</b><br/>Pounds (USDA)</i></font></td><td align=\"center\" class=\"bottomleft\">9.3</td><td align=\"center\" class=\"bottomleft\">9.7</td><td align=\"center\" class=\"bottomleft\">9.7</td><td align=\"center\" class=\"bottomleft\">9.7</td><td align=\"center\" class=\"bottomleft\">9.9</td><td align=\"center\" class=\"bottomleft\">10.2</td><td align=\"center\" class=\"bottomleft\">10.5</td><td align=\"center\" class=\"bottomleft\">11</td><td align=\"center\" class=\"bottomleft\">10.6</td><td align=\"center\" class=\"bottomleft\">10.6</td><td align=\"center\" class=\"bottomleft\"></td></tr><tr><td align=\"right\" class=\"bottom\"><font size=\"1\"><i><b>Civil engineering doctorates awarded (US)</b><br/>Degrees awarded (National Science Foundation)</i></font></td><td align=\"center\" class=\"bottomleft\">480</td><td align=\"center\" class=\"bottomleft\">501</td><td align=\"center\" class=\"bottomleft\">540</td><td align=\"center\" class=\"bottomleft\">552</td><td align=\"center\" class=\"bottomleft\">547</td><td align=\"center\" class=\"bottomleft\">622</td><td align=\"center\" class=\"bottomleft\">655</td><td align=\"center\" class=\"bottomleft\">701</td><td align=\"center\" class=\"bottomleft\">712</td><td align=\"center\" class=\"bottomleft\">708</td><td align=\"center\" class=\"bottomleft\"></td></tr><tr><td colspan=\"2\"><b>Correlation: 0.958648</b></td></tr></table><br/><center><a href=\"view_correlation?id=3890\">Permalink</a>\t- <a href=\"interesting?id=3890\">Mark as interesting (15,270)</a>\t- <a href=\"interesting?unmark=3890\">Not interesting (7,217)</a><br/><a href=\"http://tylervigen.com\">View all correlations</a> - <a href=\"discover\">Discover a new correlation</a></center><form action=\"correlation_project/sexy_chart\" method=\"POST\">\n",
      "<input name=\"var_select\" type=\"hidden\" value=\"Per+capita+consumption+of+mozzarella+cheese+%28US%29\"/>\n",
      "<input name=\"type_select\" type=\"hidden\" value=\"fun\"/>\n",
      "<input name=\"second_select\" type=\"hidden\" value=\"excel+++Civil+engineering+doctorates+awarded+%28US%29\"/><input type=\"submit\" value=\"Re-Chart\"/></form></td></tr></table>\n",
      "-----\n",
      "<class 'bs4.element.Tag'>\n",
      "<script>\n",
      "  (function(i,s,o,g,r,a,m){i['GoogleAnalyticsObject']=r;i[r]=i[r]||function(){\n",
      "  (i[r].q=i[r].q||[]).push(arguments)},i[r].l=1*new Date();a=s.createElement(o),\n",
      "  m=s.getElementsByTagName(o)[0];a.async=1;a.src=g;m.parentNode.insertBefore(a,m)\n",
      "  })(window,document,'script','//www.google-analytics.com/analytics.js','ga');\n",
      "\n",
      "  ga('create', 'UA-50890993-1', 'tylervigen.com');\n",
      "  ga('send', 'pageview');\n",
      "\n",
      "</script>\n",
      "-----\n"
     ]
    }
   ],
   "source": [
    "for i in s11:\n",
    "    print(type(i))\n",
    "    print(i)\n",
    "    print('-----')"
   ]
  },
  {
   "cell_type": "code",
   "execution_count": 41,
   "metadata": {},
   "outputs": [
    {
     "name": "stdout",
     "output_type": "stream",
     "text": [
      "1\n"
     ]
    }
   ],
   "source": [
    "s12 = s11[1]\n",
    "s13 = list(s12.children)\n",
    "print(len(s13))"
   ]
  },
  {
   "cell_type": "code",
   "execution_count": 42,
   "metadata": {},
   "outputs": [
    {
     "name": "stdout",
     "output_type": "stream",
     "text": [
      "<class 'bs4.element.Tag'>\n",
      "<tr><td align=\"center\"><a class=\"variable\" href=\"discover?type_select=fun&amp;link_var=Per+capita+consumption+of+mozzarella+cheese+%28US%29&amp;exclude_county=ON\">Per capita consumption of mozzarella cheese (US)</a><br/> correlates with<br/><a class=\"variable\" href=\"discover?type_select=excel&amp;link_var=Civil+engineering+doctorates+awarded+%28US%29&amp;exclude_county=ON\">Civil engineering doctorates awarded (US)</a><br/><br/><img src=\"correlation_project/correlation_images/per-capita-consumption-of-mozzarella-cheese-us_civil-engineering-doctorates-awarded-us.png\"/><br/><a href=\"http://imgur.com/upload?url=http://tylervigen.com/correlation_project/correlation_images/per-capita-consumption-of-mozzarella-cheese-us_civil-engineering-doctorates-awarded-us.png\" target=\"_blank\"><font size=\"1\">Upload this image to imgur</font></a><br/><br/><table cellpadding=\"5\" class=\"alldata\"><tr><td class=\"bottom\"></td><td align=\"center\" class=\"bottomleft\"><font size=\"1\"><b><u>2000</u></b></font></td><td align=\"center\" class=\"bottomleft\"><font size=\"1\"><b><u>2001</u></b></font></td><td align=\"center\" class=\"bottomleft\"><font size=\"1\"><b><u>2002</u></b></font></td><td align=\"center\" class=\"bottomleft\"><font size=\"1\"><b><u>2003</u></b></font></td><td align=\"center\" class=\"bottomleft\"><font size=\"1\"><b><u>2004</u></b></font></td><td align=\"center\" class=\"bottomleft\"><font size=\"1\"><b><u>2005</u></b></font></td><td align=\"center\" class=\"bottomleft\"><font size=\"1\"><b><u>2006</u></b></font></td><td align=\"center\" class=\"bottomleft\"><font size=\"1\"><b><u>2007</u></b></font></td><td align=\"center\" class=\"bottomleft\"><font size=\"1\"><b><u>2008</u></b></font></td><td align=\"center\" class=\"bottomleft\"><font size=\"1\"><b><u>2009</u></b></font></td><td align=\"center\" class=\"bottomleft\"><font size=\"1\"><b><u></u></b></font></td></tr><tr><td align=\"right\" class=\"bottom\"><font size=\"1\"><i><b>Per capita consumption of mozzarella cheese (US)</b><br/>Pounds (USDA)</i></font></td><td align=\"center\" class=\"bottomleft\">9.3</td><td align=\"center\" class=\"bottomleft\">9.7</td><td align=\"center\" class=\"bottomleft\">9.7</td><td align=\"center\" class=\"bottomleft\">9.7</td><td align=\"center\" class=\"bottomleft\">9.9</td><td align=\"center\" class=\"bottomleft\">10.2</td><td align=\"center\" class=\"bottomleft\">10.5</td><td align=\"center\" class=\"bottomleft\">11</td><td align=\"center\" class=\"bottomleft\">10.6</td><td align=\"center\" class=\"bottomleft\">10.6</td><td align=\"center\" class=\"bottomleft\"></td></tr><tr><td align=\"right\" class=\"bottom\"><font size=\"1\"><i><b>Civil engineering doctorates awarded (US)</b><br/>Degrees awarded (National Science Foundation)</i></font></td><td align=\"center\" class=\"bottomleft\">480</td><td align=\"center\" class=\"bottomleft\">501</td><td align=\"center\" class=\"bottomleft\">540</td><td align=\"center\" class=\"bottomleft\">552</td><td align=\"center\" class=\"bottomleft\">547</td><td align=\"center\" class=\"bottomleft\">622</td><td align=\"center\" class=\"bottomleft\">655</td><td align=\"center\" class=\"bottomleft\">701</td><td align=\"center\" class=\"bottomleft\">712</td><td align=\"center\" class=\"bottomleft\">708</td><td align=\"center\" class=\"bottomleft\"></td></tr><tr><td colspan=\"2\"><b>Correlation: 0.958648</b></td></tr></table><br/><center><a href=\"view_correlation?id=3890\">Permalink</a>\t- <a href=\"interesting?id=3890\">Mark as interesting (15,270)</a>\t- <a href=\"interesting?unmark=3890\">Not interesting (7,217)</a><br/><a href=\"http://tylervigen.com\">View all correlations</a> - <a href=\"discover\">Discover a new correlation</a></center><form action=\"correlation_project/sexy_chart\" method=\"POST\">\n",
      "<input name=\"var_select\" type=\"hidden\" value=\"Per+capita+consumption+of+mozzarella+cheese+%28US%29\"/>\n",
      "<input name=\"type_select\" type=\"hidden\" value=\"fun\"/>\n",
      "<input name=\"second_select\" type=\"hidden\" value=\"excel+++Civil+engineering+doctorates+awarded+%28US%29\"/><input type=\"submit\" value=\"Re-Chart\"/></form></td></tr>\n",
      "-----\n"
     ]
    }
   ],
   "source": [
    "for i in s13:\n",
    "    print(type(i))\n",
    "    print(i)\n",
    "    print('-----')"
   ]
  },
  {
   "cell_type": "code",
   "execution_count": 58,
   "metadata": {},
   "outputs": [
    {
     "ename": "AttributeError",
     "evalue": "ResultSet object has no attribute 'get_text'. You're probably treating a list of elements like a single element. Did you call find_all() when you meant to call find()?",
     "output_type": "error",
     "traceback": [
      "\u001b[1;31m---------------------------------------------------------------------------\u001b[0m",
      "\u001b[1;31mAttributeError\u001b[0m                            Traceback (most recent call last)",
      "\u001b[1;32m<ipython-input-58-1a7bd7d5aaf2>\u001b[0m in \u001b[0;36m<module>\u001b[1;34m\u001b[0m\n\u001b[1;32m----> 1\u001b[1;33m \u001b[0ms12\u001b[0m\u001b[1;33m.\u001b[0m\u001b[0mfind_all\u001b[0m\u001b[1;33m(\u001b[0m\u001b[1;34m'table'\u001b[0m\u001b[1;33m)\u001b[0m\u001b[1;33m.\u001b[0m\u001b[0mget_text\u001b[0m\u001b[1;33m(\u001b[0m\u001b[1;33m)\u001b[0m\u001b[1;33m\u001b[0m\u001b[1;33m\u001b[0m\u001b[0m\n\u001b[0m",
      "\u001b[1;32m~\\Anaconda3\\envs\\python3\\lib\\site-packages\\bs4\\element.py\u001b[0m in \u001b[0;36m__getattr__\u001b[1;34m(self, key)\u001b[0m\n\u001b[0;32m   2079\u001b[0m         \u001b[1;34m\"\"\"Raise a helpful exception to explain a common code fix.\"\"\"\u001b[0m\u001b[1;33m\u001b[0m\u001b[1;33m\u001b[0m\u001b[0m\n\u001b[0;32m   2080\u001b[0m         raise AttributeError(\n\u001b[1;32m-> 2081\u001b[1;33m             \u001b[1;34m\"ResultSet object has no attribute '%s'. You're probably treating a list of elements like a single element. Did you call find_all() when you meant to call find()?\"\u001b[0m \u001b[1;33m%\u001b[0m \u001b[0mkey\u001b[0m\u001b[1;33m\u001b[0m\u001b[1;33m\u001b[0m\u001b[0m\n\u001b[0m\u001b[0;32m   2082\u001b[0m         )\n",
      "\u001b[1;31mAttributeError\u001b[0m: ResultSet object has no attribute 'get_text'. You're probably treating a list of elements like a single element. Did you call find_all() when you meant to call find()?"
     ]
    }
   ],
   "source": [
    "s12.find('table').get_text()\n"
   ]
  },
  {
   "cell_type": "code",
   "execution_count": 61,
   "metadata": {},
   "outputs": [],
   "source": [
    "so = soup.find_all('table')"
   ]
  },
  {
   "cell_type": "code",
   "execution_count": 63,
   "metadata": {},
   "outputs": [
    {
     "name": "stdout",
     "output_type": "stream",
     "text": [
      "<table align=\"center\" width=\"65%\">\n",
      "<tr><td align=\"center\" style=\"vertical-align:top\">\n",
      "<a href=\"http://tylervigen.com\"><img border=\"0\" src=\"correlation_project/thingsthatcorrelate.png\"/></a><br/><br/></td></tr>\n",
      "<tr>\n",
      "<td style=\"vertical-align:top\">\n",
      "<table cellpadding=\"15\" class=\"container\" width=\"100%\"><tr><td align=\"center\"><a class=\"variable\" href=\"discover?type_select=fun&amp;link_var=Per+capita+consumption+of+mozzarella+cheese+%28US%29&amp;exclude_county=ON\">Per capita consumption of mozzarella cheese (US)</a><br/> correlates with<br/><a class=\"variable\" href=\"discover?type_select=excel&amp;link_var=Civil+engineering+doctorates+awarded+%28US%29&amp;exclude_county=ON\">Civil engineering doctorates awarded (US)</a><br/><br/><img src=\"correlation_project/correlation_images/per-capita-consumption-of-mozzarella-cheese-us_civil-engineering-doctorates-awarded-us.png\"/><br/><a href=\"http://imgur.com/upload?url=http://tylervigen.com/correlation_project/correlation_images/per-capita-consumption-of-mozzarella-cheese-us_civil-engineering-doctorates-awarded-us.png\" target=\"_blank\"><font size=\"1\">Upload this image to imgur</font></a><br/><br/><table cellpadding=\"5\" class=\"alldata\"><tr><td class=\"bottom\"></td><td align=\"center\" class=\"bottomleft\"><font size=\"1\"><b><u>2000</u></b></font></td><td align=\"center\" class=\"bottomleft\"><font size=\"1\"><b><u>2001</u></b></font></td><td align=\"center\" class=\"bottomleft\"><font size=\"1\"><b><u>2002</u></b></font></td><td align=\"center\" class=\"bottomleft\"><font size=\"1\"><b><u>2003</u></b></font></td><td align=\"center\" class=\"bottomleft\"><font size=\"1\"><b><u>2004</u></b></font></td><td align=\"center\" class=\"bottomleft\"><font size=\"1\"><b><u>2005</u></b></font></td><td align=\"center\" class=\"bottomleft\"><font size=\"1\"><b><u>2006</u></b></font></td><td align=\"center\" class=\"bottomleft\"><font size=\"1\"><b><u>2007</u></b></font></td><td align=\"center\" class=\"bottomleft\"><font size=\"1\"><b><u>2008</u></b></font></td><td align=\"center\" class=\"bottomleft\"><font size=\"1\"><b><u>2009</u></b></font></td><td align=\"center\" class=\"bottomleft\"><font size=\"1\"><b><u></u></b></font></td></tr><tr><td align=\"right\" class=\"bottom\"><font size=\"1\"><i><b>Per capita consumption of mozzarella cheese (US)</b><br/>Pounds (USDA)</i></font></td><td align=\"center\" class=\"bottomleft\">9.3</td><td align=\"center\" class=\"bottomleft\">9.7</td><td align=\"center\" class=\"bottomleft\">9.7</td><td align=\"center\" class=\"bottomleft\">9.7</td><td align=\"center\" class=\"bottomleft\">9.9</td><td align=\"center\" class=\"bottomleft\">10.2</td><td align=\"center\" class=\"bottomleft\">10.5</td><td align=\"center\" class=\"bottomleft\">11</td><td align=\"center\" class=\"bottomleft\">10.6</td><td align=\"center\" class=\"bottomleft\">10.6</td><td align=\"center\" class=\"bottomleft\"></td></tr><tr><td align=\"right\" class=\"bottom\"><font size=\"1\"><i><b>Civil engineering doctorates awarded (US)</b><br/>Degrees awarded (National Science Foundation)</i></font></td><td align=\"center\" class=\"bottomleft\">480</td><td align=\"center\" class=\"bottomleft\">501</td><td align=\"center\" class=\"bottomleft\">540</td><td align=\"center\" class=\"bottomleft\">552</td><td align=\"center\" class=\"bottomleft\">547</td><td align=\"center\" class=\"bottomleft\">622</td><td align=\"center\" class=\"bottomleft\">655</td><td align=\"center\" class=\"bottomleft\">701</td><td align=\"center\" class=\"bottomleft\">712</td><td align=\"center\" class=\"bottomleft\">708</td><td align=\"center\" class=\"bottomleft\"></td></tr><tr><td colspan=\"2\"><b>Correlation: 0.958648</b></td></tr></table><br/><center><a href=\"view_correlation?id=3890\">Permalink</a>\t- <a href=\"interesting?id=3890\">Mark as interesting (15,270)</a>\t- <a href=\"interesting?unmark=3890\">Not interesting (7,217)</a><br/><a href=\"http://tylervigen.com\">View all correlations</a> - <a href=\"discover\">Discover a new correlation</a></center><form action=\"correlation_project/sexy_chart\" method=\"POST\">\n",
      "<input name=\"var_select\" type=\"hidden\" value=\"Per+capita+consumption+of+mozzarella+cheese+%28US%29\"/>\n",
      "<input name=\"type_select\" type=\"hidden\" value=\"fun\"/>\n",
      "<input name=\"second_select\" type=\"hidden\" value=\"excel+++Civil+engineering+doctorates+awarded+%28US%29\"/><input type=\"submit\" value=\"Re-Chart\"/></form></td></tr></table><script>\n",
      "  (function(i,s,o,g,r,a,m){i['GoogleAnalyticsObject']=r;i[r]=i[r]||function(){\n",
      "  (i[r].q=i[r].q||[]).push(arguments)},i[r].l=1*new Date();a=s.createElement(o),\n",
      "  m=s.getElementsByTagName(o)[0];a.async=1;a.src=g;m.parentNode.insertBefore(a,m)\n",
      "  })(window,document,'script','//www.google-analytics.com/analytics.js','ga');\n",
      "\n",
      "  ga('create', 'UA-50890993-1', 'tylervigen.com');\n",
      "  ga('send', 'pageview');\n",
      "\n",
      "</script></td></tr></table>\n",
      "-----\n",
      "<table cellpadding=\"15\" class=\"container\" width=\"100%\"><tr><td align=\"center\"><a class=\"variable\" href=\"discover?type_select=fun&amp;link_var=Per+capita+consumption+of+mozzarella+cheese+%28US%29&amp;exclude_county=ON\">Per capita consumption of mozzarella cheese (US)</a><br/> correlates with<br/><a class=\"variable\" href=\"discover?type_select=excel&amp;link_var=Civil+engineering+doctorates+awarded+%28US%29&amp;exclude_county=ON\">Civil engineering doctorates awarded (US)</a><br/><br/><img src=\"correlation_project/correlation_images/per-capita-consumption-of-mozzarella-cheese-us_civil-engineering-doctorates-awarded-us.png\"/><br/><a href=\"http://imgur.com/upload?url=http://tylervigen.com/correlation_project/correlation_images/per-capita-consumption-of-mozzarella-cheese-us_civil-engineering-doctorates-awarded-us.png\" target=\"_blank\"><font size=\"1\">Upload this image to imgur</font></a><br/><br/><table cellpadding=\"5\" class=\"alldata\"><tr><td class=\"bottom\"></td><td align=\"center\" class=\"bottomleft\"><font size=\"1\"><b><u>2000</u></b></font></td><td align=\"center\" class=\"bottomleft\"><font size=\"1\"><b><u>2001</u></b></font></td><td align=\"center\" class=\"bottomleft\"><font size=\"1\"><b><u>2002</u></b></font></td><td align=\"center\" class=\"bottomleft\"><font size=\"1\"><b><u>2003</u></b></font></td><td align=\"center\" class=\"bottomleft\"><font size=\"1\"><b><u>2004</u></b></font></td><td align=\"center\" class=\"bottomleft\"><font size=\"1\"><b><u>2005</u></b></font></td><td align=\"center\" class=\"bottomleft\"><font size=\"1\"><b><u>2006</u></b></font></td><td align=\"center\" class=\"bottomleft\"><font size=\"1\"><b><u>2007</u></b></font></td><td align=\"center\" class=\"bottomleft\"><font size=\"1\"><b><u>2008</u></b></font></td><td align=\"center\" class=\"bottomleft\"><font size=\"1\"><b><u>2009</u></b></font></td><td align=\"center\" class=\"bottomleft\"><font size=\"1\"><b><u></u></b></font></td></tr><tr><td align=\"right\" class=\"bottom\"><font size=\"1\"><i><b>Per capita consumption of mozzarella cheese (US)</b><br/>Pounds (USDA)</i></font></td><td align=\"center\" class=\"bottomleft\">9.3</td><td align=\"center\" class=\"bottomleft\">9.7</td><td align=\"center\" class=\"bottomleft\">9.7</td><td align=\"center\" class=\"bottomleft\">9.7</td><td align=\"center\" class=\"bottomleft\">9.9</td><td align=\"center\" class=\"bottomleft\">10.2</td><td align=\"center\" class=\"bottomleft\">10.5</td><td align=\"center\" class=\"bottomleft\">11</td><td align=\"center\" class=\"bottomleft\">10.6</td><td align=\"center\" class=\"bottomleft\">10.6</td><td align=\"center\" class=\"bottomleft\"></td></tr><tr><td align=\"right\" class=\"bottom\"><font size=\"1\"><i><b>Civil engineering doctorates awarded (US)</b><br/>Degrees awarded (National Science Foundation)</i></font></td><td align=\"center\" class=\"bottomleft\">480</td><td align=\"center\" class=\"bottomleft\">501</td><td align=\"center\" class=\"bottomleft\">540</td><td align=\"center\" class=\"bottomleft\">552</td><td align=\"center\" class=\"bottomleft\">547</td><td align=\"center\" class=\"bottomleft\">622</td><td align=\"center\" class=\"bottomleft\">655</td><td align=\"center\" class=\"bottomleft\">701</td><td align=\"center\" class=\"bottomleft\">712</td><td align=\"center\" class=\"bottomleft\">708</td><td align=\"center\" class=\"bottomleft\"></td></tr><tr><td colspan=\"2\"><b>Correlation: 0.958648</b></td></tr></table><br/><center><a href=\"view_correlation?id=3890\">Permalink</a>\t- <a href=\"interesting?id=3890\">Mark as interesting (15,270)</a>\t- <a href=\"interesting?unmark=3890\">Not interesting (7,217)</a><br/><a href=\"http://tylervigen.com\">View all correlations</a> - <a href=\"discover\">Discover a new correlation</a></center><form action=\"correlation_project/sexy_chart\" method=\"POST\">\n",
      "<input name=\"var_select\" type=\"hidden\" value=\"Per+capita+consumption+of+mozzarella+cheese+%28US%29\"/>\n",
      "<input name=\"type_select\" type=\"hidden\" value=\"fun\"/>\n",
      "<input name=\"second_select\" type=\"hidden\" value=\"excel+++Civil+engineering+doctorates+awarded+%28US%29\"/><input type=\"submit\" value=\"Re-Chart\"/></form></td></tr></table>\n",
      "-----\n",
      "<table cellpadding=\"5\" class=\"alldata\"><tr><td class=\"bottom\"></td><td align=\"center\" class=\"bottomleft\"><font size=\"1\"><b><u>2000</u></b></font></td><td align=\"center\" class=\"bottomleft\"><font size=\"1\"><b><u>2001</u></b></font></td><td align=\"center\" class=\"bottomleft\"><font size=\"1\"><b><u>2002</u></b></font></td><td align=\"center\" class=\"bottomleft\"><font size=\"1\"><b><u>2003</u></b></font></td><td align=\"center\" class=\"bottomleft\"><font size=\"1\"><b><u>2004</u></b></font></td><td align=\"center\" class=\"bottomleft\"><font size=\"1\"><b><u>2005</u></b></font></td><td align=\"center\" class=\"bottomleft\"><font size=\"1\"><b><u>2006</u></b></font></td><td align=\"center\" class=\"bottomleft\"><font size=\"1\"><b><u>2007</u></b></font></td><td align=\"center\" class=\"bottomleft\"><font size=\"1\"><b><u>2008</u></b></font></td><td align=\"center\" class=\"bottomleft\"><font size=\"1\"><b><u>2009</u></b></font></td><td align=\"center\" class=\"bottomleft\"><font size=\"1\"><b><u></u></b></font></td></tr><tr><td align=\"right\" class=\"bottom\"><font size=\"1\"><i><b>Per capita consumption of mozzarella cheese (US)</b><br/>Pounds (USDA)</i></font></td><td align=\"center\" class=\"bottomleft\">9.3</td><td align=\"center\" class=\"bottomleft\">9.7</td><td align=\"center\" class=\"bottomleft\">9.7</td><td align=\"center\" class=\"bottomleft\">9.7</td><td align=\"center\" class=\"bottomleft\">9.9</td><td align=\"center\" class=\"bottomleft\">10.2</td><td align=\"center\" class=\"bottomleft\">10.5</td><td align=\"center\" class=\"bottomleft\">11</td><td align=\"center\" class=\"bottomleft\">10.6</td><td align=\"center\" class=\"bottomleft\">10.6</td><td align=\"center\" class=\"bottomleft\"></td></tr><tr><td align=\"right\" class=\"bottom\"><font size=\"1\"><i><b>Civil engineering doctorates awarded (US)</b><br/>Degrees awarded (National Science Foundation)</i></font></td><td align=\"center\" class=\"bottomleft\">480</td><td align=\"center\" class=\"bottomleft\">501</td><td align=\"center\" class=\"bottomleft\">540</td><td align=\"center\" class=\"bottomleft\">552</td><td align=\"center\" class=\"bottomleft\">547</td><td align=\"center\" class=\"bottomleft\">622</td><td align=\"center\" class=\"bottomleft\">655</td><td align=\"center\" class=\"bottomleft\">701</td><td align=\"center\" class=\"bottomleft\">712</td><td align=\"center\" class=\"bottomleft\">708</td><td align=\"center\" class=\"bottomleft\"></td></tr><tr><td colspan=\"2\"><b>Correlation: 0.958648</b></td></tr></table>\n",
      "-----\n"
     ]
    }
   ],
   "source": [
    "for i in list(so): \n",
    "    print(i)\n",
    "    print('-----')"
   ]
  },
  {
   "cell_type": "code",
   "execution_count": 83,
   "metadata": {},
   "outputs": [],
   "source": [
    "t = []\n",
    "for tr in soup.find_all('tr')[2]:\n",
    "    td = tr.find_all('td')\n",
    "    for i, v in enumerate(list(td)):\n",
    "        if td[i].text != '':\n",
    "            t.append(td[i].text)      "
   ]
  },
  {
   "cell_type": "code",
   "execution_count": 84,
   "metadata": {},
   "outputs": [
    {
     "name": "stdout",
     "output_type": "stream",
     "text": [
      "['2000', '2001', '2002', '2003', '2004', '2005', '2006', '2007', '2008', '2009', 'Per capita consumption of mozzarella cheese (US)Pounds (USDA)', '9.3', '9.7', '9.7', '9.7', '9.9', '10.2', '10.5', '11', '10.6', '10.6', 'Civil engineering doctorates awarded (US)Degrees awarded (National Science Foundation)', '480', '501', '540', '552', '547', '622', '655', '701', '712', '708', 'Correlation: 0.958648']\n"
     ]
    }
   ],
   "source": [
    "print(t)"
   ]
  },
  {
   "cell_type": "code",
   "execution_count": 149,
   "metadata": {},
   "outputs": [],
   "source": [
    "ind = t[:10]\n",
    "consumption = t[11:21]\n",
    "award = t[22:32]\n",
    "lab1 = 'Per capita consumption of mozzarella cheese (US)'\n",
    "lab2 = 'Civil engineering doctorates awarded (US)'"
   ]
  },
  {
   "cell_type": "code",
   "execution_count": 90,
   "metadata": {},
   "outputs": [],
   "source": [
    "import pandas as pd"
   ]
  },
  {
   "cell_type": "code",
   "execution_count": 94,
   "metadata": {},
   "outputs": [],
   "source": [
    "df = pd.DataFrame({'Consumption': consumption, 'Award': award}, index = ind)"
   ]
  },
  {
   "cell_type": "code",
   "execution_count": 95,
   "metadata": {},
   "outputs": [
    {
     "data": {
      "text/html": [
       "<div>\n",
       "<style scoped>\n",
       "    .dataframe tbody tr th:only-of-type {\n",
       "        vertical-align: middle;\n",
       "    }\n",
       "\n",
       "    .dataframe tbody tr th {\n",
       "        vertical-align: top;\n",
       "    }\n",
       "\n",
       "    .dataframe thead th {\n",
       "        text-align: right;\n",
       "    }\n",
       "</style>\n",
       "<table border=\"1\" class=\"dataframe\">\n",
       "  <thead>\n",
       "    <tr style=\"text-align: right;\">\n",
       "      <th></th>\n",
       "      <th>Consumption</th>\n",
       "      <th>Award</th>\n",
       "    </tr>\n",
       "  </thead>\n",
       "  <tbody>\n",
       "    <tr>\n",
       "      <th>2000</th>\n",
       "      <td>9.3</td>\n",
       "      <td>480</td>\n",
       "    </tr>\n",
       "    <tr>\n",
       "      <th>2001</th>\n",
       "      <td>9.7</td>\n",
       "      <td>501</td>\n",
       "    </tr>\n",
       "    <tr>\n",
       "      <th>2002</th>\n",
       "      <td>9.7</td>\n",
       "      <td>540</td>\n",
       "    </tr>\n",
       "    <tr>\n",
       "      <th>2003</th>\n",
       "      <td>9.7</td>\n",
       "      <td>552</td>\n",
       "    </tr>\n",
       "    <tr>\n",
       "      <th>2004</th>\n",
       "      <td>9.9</td>\n",
       "      <td>547</td>\n",
       "    </tr>\n",
       "    <tr>\n",
       "      <th>2005</th>\n",
       "      <td>10.2</td>\n",
       "      <td>622</td>\n",
       "    </tr>\n",
       "    <tr>\n",
       "      <th>2006</th>\n",
       "      <td>10.5</td>\n",
       "      <td>655</td>\n",
       "    </tr>\n",
       "    <tr>\n",
       "      <th>2007</th>\n",
       "      <td>11</td>\n",
       "      <td>701</td>\n",
       "    </tr>\n",
       "    <tr>\n",
       "      <th>2008</th>\n",
       "      <td>10.6</td>\n",
       "      <td>712</td>\n",
       "    </tr>\n",
       "    <tr>\n",
       "      <th>2009</th>\n",
       "      <td>10.6</td>\n",
       "      <td>708</td>\n",
       "    </tr>\n",
       "  </tbody>\n",
       "</table>\n",
       "</div>"
      ],
      "text/plain": [
       "     Consumption Award\n",
       "2000         9.3   480\n",
       "2001         9.7   501\n",
       "2002         9.7   540\n",
       "2003         9.7   552\n",
       "2004         9.9   547\n",
       "2005        10.2   622\n",
       "2006        10.5   655\n",
       "2007          11   701\n",
       "2008        10.6   712\n",
       "2009        10.6   708"
      ]
     },
     "execution_count": 95,
     "metadata": {},
     "output_type": "execute_result"
    }
   ],
   "source": [
    "df"
   ]
  },
  {
   "cell_type": "code",
   "execution_count": 119,
   "metadata": {},
   "outputs": [
    {
     "name": "stdout",
     "output_type": "stream",
     "text": [
      "Civil engineering doctorates awarded (US)Degrees awarded (National Science Foundation)\n"
     ]
    }
   ],
   "source": [
    "import numpy as np\n",
    "import matplotlib.pyplot as plt\n",
    "print(lab2)"
   ]
  },
  {
   "cell_type": "code",
   "execution_count": 170,
   "metadata": {},
   "outputs": [
    {
     "data": {
      "image/png": "[encoded data removed]",
      "text/plain": [
       "<Figure size 864x288 with 2 Axes>"
      ]
     },
     "metadata": {
      "needs_background": "light"
     },
     "output_type": "display_data"
    }
   ],
   "source": [
    "fig,ax1 = plt.subplots(figsize = (12,4))\n",
    "ln1 = ax1.plot(df.Consumption, label = lab1, marker = 'o')\n",
    "ax1.set_xlabel('Year')\n",
    "ax1.set_ylabel('Pounds')\n",
    "#plt.legend(loc = 'upper left',bbox_to_anchor=(0, 0.5, 0.5, 0.5), fontsize = 'medium')\n",
    "\n",
    "ax2 = ax1.twinx()\n",
    "ln2 = ax2.plot(df.Award, label = lab2,marker = 'o', color = 'r')\n",
    "ax2.set_ylabel('Degrees awarded')\n",
    "#plt.legend(loc = 'upper left', bbox_to_anchor=(0, 0.4, 0.5, 0.5),fontsize = 'medium')\n",
    "lns = ln1 + ln2\n",
    "lab = [l.get_label() for l in lns]\n",
    "ax2.legend(lns, lab, loc = 'upper left')\n",
    "\n",
    "plt.show()"
   ]
  },
  {
   "cell_type": "code",
   "execution_count": 169,
   "metadata": {},
   "outputs": [
    {
     "data": {
      "image/png": "[encoded data removed]",
      "text/plain": [
       "<Figure size 432x288 with 1 Axes>"
      ]
     },
     "metadata": {
      "needs_background": "light"
     },
     "output_type": "display_data"
    }
   ],
   "source": [
    "# \"\"\"\n",
    "# Parasite axis demo\n",
    "\n",
    "# The following code is an example of a parasite axis. It aims to show a user how\n",
    "# to plot multiple different values onto one single plot. Notice how in this\n",
    "# example, par1 and par2 are both calling twinx meaning both are tied directly to\n",
    "# the x-axis. From there, each of those two axis can behave separately from the\n",
    "# each other, meaning they can take on separate values from themselves as well as\n",
    "# the x-axis.\n",
    "# \"\"\"\n",
    "# from mpl_toolkits.axes_grid1 import host_subplot\n",
    "# import mpl_toolkits.axisartist as AA\n",
    "# import matplotlib.pyplot as plt\n",
    "\n",
    "# host = host_subplot(111, axes_class=AA.Axes)\n",
    "# plt.subplots_adjust(right=0.75)\n",
    "\n",
    "# par1 = host.twinx()\n",
    "# par2 = host.twinx()\n",
    "\n",
    "# offset = 60\n",
    "# new_fixed_axis = par2.get_grid_helper().new_fixed_axis\n",
    "# par2.axis[\"right\"] = new_fixed_axis(loc=\"right\",\n",
    "#                                     axes=par2,\n",
    "#                                     offset=(offset, 0))\n",
    "\n",
    "# par2.axis[\"right\"].toggle(all=True)\n",
    "\n",
    "# host.set_xlim(0, 2)\n",
    "# host.set_ylim(0, 2)\n",
    "\n",
    "# host.set_xlabel(\"Distance\")\n",
    "# host.set_ylabel(\"Density\")\n",
    "# par1.set_ylabel(\"Temperature\")\n",
    "# par2.set_ylabel(\"Velocity\")\n",
    "\n",
    "# p1, = host.plot([0, 1, 2], [0, 1, 2], label=\"Density\")\n",
    "# p2, = par1.plot([0, 1, 2], [0, 3, 2], label=\"Temperature\")\n",
    "# p3, = par2.plot([0, 1, 2], [50, 30, 15], label=\"Velocity\")\n",
    "\n",
    "# par1.set_ylim(0, 4)\n",
    "# par2.set_ylim(1, 65)\n",
    "\n",
    "# host.legend()\n",
    "\n",
    "# host.axis[\"left\"].label.set_color(p1.get_color())\n",
    "# par1.axis[\"right\"].label.set_color(p2.get_color())\n",
    "# par2.axis[\"right\"].label.set_color(p3.get_color())\n",
    "\n",
    "# plt.draw()\n",
    "# plt.show()"
   ]
  },
  {
   "cell_type": "code",
   "execution_count": null,
   "metadata": {},
   "outputs": [],
   "source": []
  }
 ],
 "metadata": {
  "kernelspec": {
   "display_name": "Python 3",
   "language": "python",
   "name": "python3"
  },
  "language_info": {
   "codemirror_mode": {
    "name": "ipython",
    "version": 3
   },
   "file_extension": ".py",
   "mimetype": "text/x-python",
   "name": "python",
   "nbconvert_exporter": "python",
   "pygments_lexer": "ipython3",
   "version": "3.7.4"
  }
 },
 "nbformat": 4,
 "nbformat_minor": 2
}
