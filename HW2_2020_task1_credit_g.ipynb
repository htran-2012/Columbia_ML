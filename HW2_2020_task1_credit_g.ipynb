{
 "cells": [
  {
   "cell_type": "code",
   "execution_count": 1,
   "metadata": {},
   "outputs": [],
   "source": [
    "import numpy as np\n",
    "import pandas as pd\n",
    "pd.set_option('display.max_columns', 999)\n",
    "import matplotlib.pyplot as plt\n",
    "%matplotlib inline\n",
    "import seaborn as sns\n"
   ]
  },
  {
   "cell_type": "code",
   "execution_count": 2,
   "metadata": {},
   "outputs": [],
   "source": [
    "df = pd.read_csv('dataset_31_credit-g.csv')"
   ]
  },
  {
   "cell_type": "code",
   "execution_count": 3,
   "metadata": {},
   "outputs": [
    {
     "data": {
      "text/plain": [
       "(1000, 21)"
      ]
     },
     "execution_count": 3,
     "metadata": {},
     "output_type": "execute_result"
    }
   ],
   "source": [
    "df.shape"
   ]
  },
  {
   "cell_type": "code",
   "execution_count": 4,
   "metadata": {},
   "outputs": [
    {
     "data": {
      "text/plain": [
       "Index(['checking_status', 'duration', 'credit_history', 'purpose',\n",
       "       'credit_amount', 'savings_status', 'employment',\n",
       "       'installment_commitment', 'personal_status', 'other_parties',\n",
       "       'residence_since', 'property_magnitude', 'age', 'other_payment_plans',\n",
       "       'housing', 'existing_credits', 'job', 'num_dependents', 'own_telephone',\n",
       "       'foreign_worker', 'class'],\n",
       "      dtype='object')"
      ]
     },
     "execution_count": 4,
     "metadata": {},
     "output_type": "execute_result"
    }
   ],
   "source": [
    "df.columns"
   ]
  },
  {
   "cell_type": "code",
   "execution_count": 5,
   "metadata": {},
   "outputs": [
    {
     "data": {
      "text/html": [
       "<div>\n",
       "<style scoped>\n",
       "    .dataframe tbody tr th:only-of-type {\n",
       "        vertical-align: middle;\n",
       "    }\n",
       "\n",
       "    .dataframe tbody tr th {\n",
       "        vertical-align: top;\n",
       "    }\n",
       "\n",
       "    .dataframe thead th {\n",
       "        text-align: right;\n",
       "    }\n",
       "</style>\n",
       "<table border=\"1\" class=\"dataframe\">\n",
       "  <thead>\n",
       "    <tr style=\"text-align: right;\">\n",
       "      <th></th>\n",
       "      <th>checking_status</th>\n",
       "      <th>duration</th>\n",
       "      <th>credit_history</th>\n",
       "      <th>purpose</th>\n",
       "      <th>credit_amount</th>\n",
       "      <th>savings_status</th>\n",
       "      <th>employment</th>\n",
       "      <th>installment_commitment</th>\n",
       "      <th>personal_status</th>\n",
       "      <th>other_parties</th>\n",
       "      <th>residence_since</th>\n",
       "      <th>property_magnitude</th>\n",
       "      <th>age</th>\n",
       "      <th>other_payment_plans</th>\n",
       "      <th>housing</th>\n",
       "      <th>existing_credits</th>\n",
       "      <th>job</th>\n",
       "      <th>num_dependents</th>\n",
       "      <th>own_telephone</th>\n",
       "      <th>foreign_worker</th>\n",
       "      <th>class</th>\n",
       "    </tr>\n",
       "  </thead>\n",
       "  <tbody>\n",
       "    <tr>\n",
       "      <th>0</th>\n",
       "      <td>'&lt;0'</td>\n",
       "      <td>6</td>\n",
       "      <td>'critical/other existing credit'</td>\n",
       "      <td>radio/tv</td>\n",
       "      <td>1169</td>\n",
       "      <td>'no known savings'</td>\n",
       "      <td>'&gt;=7'</td>\n",
       "      <td>4</td>\n",
       "      <td>'male single'</td>\n",
       "      <td>none</td>\n",
       "      <td>4</td>\n",
       "      <td>'real estate'</td>\n",
       "      <td>67</td>\n",
       "      <td>none</td>\n",
       "      <td>own</td>\n",
       "      <td>2</td>\n",
       "      <td>skilled</td>\n",
       "      <td>1</td>\n",
       "      <td>yes</td>\n",
       "      <td>yes</td>\n",
       "      <td>good</td>\n",
       "    </tr>\n",
       "    <tr>\n",
       "      <th>1</th>\n",
       "      <td>'0&lt;=X&lt;200'</td>\n",
       "      <td>48</td>\n",
       "      <td>'existing paid'</td>\n",
       "      <td>radio/tv</td>\n",
       "      <td>5951</td>\n",
       "      <td>'&lt;100'</td>\n",
       "      <td>'1&lt;=X&lt;4'</td>\n",
       "      <td>2</td>\n",
       "      <td>'female div/dep/mar'</td>\n",
       "      <td>none</td>\n",
       "      <td>2</td>\n",
       "      <td>'real estate'</td>\n",
       "      <td>22</td>\n",
       "      <td>none</td>\n",
       "      <td>own</td>\n",
       "      <td>1</td>\n",
       "      <td>skilled</td>\n",
       "      <td>1</td>\n",
       "      <td>none</td>\n",
       "      <td>yes</td>\n",
       "      <td>bad</td>\n",
       "    </tr>\n",
       "    <tr>\n",
       "      <th>2</th>\n",
       "      <td>'no checking'</td>\n",
       "      <td>12</td>\n",
       "      <td>'critical/other existing credit'</td>\n",
       "      <td>education</td>\n",
       "      <td>2096</td>\n",
       "      <td>'&lt;100'</td>\n",
       "      <td>'4&lt;=X&lt;7'</td>\n",
       "      <td>2</td>\n",
       "      <td>'male single'</td>\n",
       "      <td>none</td>\n",
       "      <td>3</td>\n",
       "      <td>'real estate'</td>\n",
       "      <td>49</td>\n",
       "      <td>none</td>\n",
       "      <td>own</td>\n",
       "      <td>1</td>\n",
       "      <td>'unskilled resident'</td>\n",
       "      <td>2</td>\n",
       "      <td>none</td>\n",
       "      <td>yes</td>\n",
       "      <td>good</td>\n",
       "    </tr>\n",
       "    <tr>\n",
       "      <th>3</th>\n",
       "      <td>'&lt;0'</td>\n",
       "      <td>42</td>\n",
       "      <td>'existing paid'</td>\n",
       "      <td>furniture/equipment</td>\n",
       "      <td>7882</td>\n",
       "      <td>'&lt;100'</td>\n",
       "      <td>'4&lt;=X&lt;7'</td>\n",
       "      <td>2</td>\n",
       "      <td>'male single'</td>\n",
       "      <td>guarantor</td>\n",
       "      <td>4</td>\n",
       "      <td>'life insurance'</td>\n",
       "      <td>45</td>\n",
       "      <td>none</td>\n",
       "      <td>'for free'</td>\n",
       "      <td>1</td>\n",
       "      <td>skilled</td>\n",
       "      <td>2</td>\n",
       "      <td>none</td>\n",
       "      <td>yes</td>\n",
       "      <td>good</td>\n",
       "    </tr>\n",
       "    <tr>\n",
       "      <th>4</th>\n",
       "      <td>'&lt;0'</td>\n",
       "      <td>24</td>\n",
       "      <td>'delayed previously'</td>\n",
       "      <td>'new car'</td>\n",
       "      <td>4870</td>\n",
       "      <td>'&lt;100'</td>\n",
       "      <td>'1&lt;=X&lt;4'</td>\n",
       "      <td>3</td>\n",
       "      <td>'male single'</td>\n",
       "      <td>none</td>\n",
       "      <td>4</td>\n",
       "      <td>'no known property'</td>\n",
       "      <td>53</td>\n",
       "      <td>none</td>\n",
       "      <td>'for free'</td>\n",
       "      <td>2</td>\n",
       "      <td>skilled</td>\n",
       "      <td>2</td>\n",
       "      <td>none</td>\n",
       "      <td>yes</td>\n",
       "      <td>bad</td>\n",
       "    </tr>\n",
       "  </tbody>\n",
       "</table>\n",
       "</div>"
      ],
      "text/plain": [
       "  checking_status  duration                    credit_history  \\\n",
       "0            '<0'         6  'critical/other existing credit'   \n",
       "1      '0<=X<200'        48                   'existing paid'   \n",
       "2   'no checking'        12  'critical/other existing credit'   \n",
       "3            '<0'        42                   'existing paid'   \n",
       "4            '<0'        24              'delayed previously'   \n",
       "\n",
       "               purpose  credit_amount      savings_status employment  \\\n",
       "0             radio/tv           1169  'no known savings'      '>=7'   \n",
       "1             radio/tv           5951              '<100'   '1<=X<4'   \n",
       "2            education           2096              '<100'   '4<=X<7'   \n",
       "3  furniture/equipment           7882              '<100'   '4<=X<7'   \n",
       "4            'new car'           4870              '<100'   '1<=X<4'   \n",
       "\n",
       "   installment_commitment       personal_status other_parties  \\\n",
       "0                       4         'male single'          none   \n",
       "1                       2  'female div/dep/mar'          none   \n",
       "2                       2         'male single'          none   \n",
       "3                       2         'male single'     guarantor   \n",
       "4                       3         'male single'          none   \n",
       "\n",
       "   residence_since   property_magnitude  age other_payment_plans     housing  \\\n",
       "0                4        'real estate'   67                none         own   \n",
       "1                2        'real estate'   22                none         own   \n",
       "2                3        'real estate'   49                none         own   \n",
       "3                4     'life insurance'   45                none  'for free'   \n",
       "4                4  'no known property'   53                none  'for free'   \n",
       "\n",
       "   existing_credits                   job  num_dependents own_telephone  \\\n",
       "0                 2               skilled               1           yes   \n",
       "1                 1               skilled               1          none   \n",
       "2                 1  'unskilled resident'               2          none   \n",
       "3                 1               skilled               2          none   \n",
       "4                 2               skilled               2          none   \n",
       "\n",
       "  foreign_worker class  \n",
       "0            yes  good  \n",
       "1            yes   bad  \n",
       "2            yes  good  \n",
       "3            yes  good  \n",
       "4            yes   bad  "
      ]
     },
     "execution_count": 5,
     "metadata": {},
     "output_type": "execute_result"
    }
   ],
   "source": [
    "df.head()"
   ]
  },
  {
   "cell_type": "code",
   "execution_count": 6,
   "metadata": {},
   "outputs": [
    {
     "name": "stdout",
     "output_type": "stream",
     "text": [
      "<class 'pandas.core.frame.DataFrame'>\n",
      "RangeIndex: 1000 entries, 0 to 999\n",
      "Data columns (total 21 columns):\n",
      " #   Column                  Non-Null Count  Dtype \n",
      "---  ------                  --------------  ----- \n",
      " 0   checking_status         1000 non-null   object\n",
      " 1   duration                1000 non-null   int64 \n",
      " 2   credit_history          1000 non-null   object\n",
      " 3   purpose                 1000 non-null   object\n",
      " 4   credit_amount           1000 non-null   int64 \n",
      " 5   savings_status          1000 non-null   object\n",
      " 6   employment              1000 non-null   object\n",
      " 7   installment_commitment  1000 non-null   int64 \n",
      " 8   personal_status         1000 non-null   object\n",
      " 9   other_parties           1000 non-null   object\n",
      " 10  residence_since         1000 non-null   int64 \n",
      " 11  property_magnitude      1000 non-null   object\n",
      " 12  age                     1000 non-null   int64 \n",
      " 13  other_payment_plans     1000 non-null   object\n",
      " 14  housing                 1000 non-null   object\n",
      " 15  existing_credits        1000 non-null   int64 \n",
      " 16  job                     1000 non-null   object\n",
      " 17  num_dependents          1000 non-null   int64 \n",
      " 18  own_telephone           1000 non-null   object\n",
      " 19  foreign_worker          1000 non-null   object\n",
      " 20  class                   1000 non-null   object\n",
      "dtypes: int64(7), object(14)\n",
      "memory usage: 164.2+ KB\n"
     ]
    }
   ],
   "source": [
    "df.info()"
   ]
  },
  {
   "cell_type": "code",
   "execution_count": 7,
   "metadata": {},
   "outputs": [
    {
     "data": {
      "text/html": [
       "<div>\n",
       "<style scoped>\n",
       "    .dataframe tbody tr th:only-of-type {\n",
       "        vertical-align: middle;\n",
       "    }\n",
       "\n",
       "    .dataframe tbody tr th {\n",
       "        vertical-align: top;\n",
       "    }\n",
       "\n",
       "    .dataframe thead th {\n",
       "        text-align: right;\n",
       "    }\n",
       "</style>\n",
       "<table border=\"1\" class=\"dataframe\">\n",
       "  <thead>\n",
       "    <tr style=\"text-align: right;\">\n",
       "      <th></th>\n",
       "      <th>duration</th>\n",
       "      <th>credit_amount</th>\n",
       "      <th>installment_commitment</th>\n",
       "      <th>residence_since</th>\n",
       "      <th>age</th>\n",
       "      <th>existing_credits</th>\n",
       "      <th>num_dependents</th>\n",
       "    </tr>\n",
       "  </thead>\n",
       "  <tbody>\n",
       "    <tr>\n",
       "      <th>count</th>\n",
       "      <td>1000.000000</td>\n",
       "      <td>1000.000000</td>\n",
       "      <td>1000.000000</td>\n",
       "      <td>1000.000000</td>\n",
       "      <td>1000.000000</td>\n",
       "      <td>1000.000000</td>\n",
       "      <td>1000.000000</td>\n",
       "    </tr>\n",
       "    <tr>\n",
       "      <th>mean</th>\n",
       "      <td>20.903000</td>\n",
       "      <td>3271.258000</td>\n",
       "      <td>2.973000</td>\n",
       "      <td>2.845000</td>\n",
       "      <td>35.546000</td>\n",
       "      <td>1.407000</td>\n",
       "      <td>1.155000</td>\n",
       "    </tr>\n",
       "    <tr>\n",
       "      <th>std</th>\n",
       "      <td>12.058814</td>\n",
       "      <td>2822.736876</td>\n",
       "      <td>1.118715</td>\n",
       "      <td>1.103718</td>\n",
       "      <td>11.375469</td>\n",
       "      <td>0.577654</td>\n",
       "      <td>0.362086</td>\n",
       "    </tr>\n",
       "    <tr>\n",
       "      <th>min</th>\n",
       "      <td>4.000000</td>\n",
       "      <td>250.000000</td>\n",
       "      <td>1.000000</td>\n",
       "      <td>1.000000</td>\n",
       "      <td>19.000000</td>\n",
       "      <td>1.000000</td>\n",
       "      <td>1.000000</td>\n",
       "    </tr>\n",
       "    <tr>\n",
       "      <th>25%</th>\n",
       "      <td>12.000000</td>\n",
       "      <td>1365.500000</td>\n",
       "      <td>2.000000</td>\n",
       "      <td>2.000000</td>\n",
       "      <td>27.000000</td>\n",
       "      <td>1.000000</td>\n",
       "      <td>1.000000</td>\n",
       "    </tr>\n",
       "    <tr>\n",
       "      <th>50%</th>\n",
       "      <td>18.000000</td>\n",
       "      <td>2319.500000</td>\n",
       "      <td>3.000000</td>\n",
       "      <td>3.000000</td>\n",
       "      <td>33.000000</td>\n",
       "      <td>1.000000</td>\n",
       "      <td>1.000000</td>\n",
       "    </tr>\n",
       "    <tr>\n",
       "      <th>75%</th>\n",
       "      <td>24.000000</td>\n",
       "      <td>3972.250000</td>\n",
       "      <td>4.000000</td>\n",
       "      <td>4.000000</td>\n",
       "      <td>42.000000</td>\n",
       "      <td>2.000000</td>\n",
       "      <td>1.000000</td>\n",
       "    </tr>\n",
       "    <tr>\n",
       "      <th>max</th>\n",
       "      <td>72.000000</td>\n",
       "      <td>18424.000000</td>\n",
       "      <td>4.000000</td>\n",
       "      <td>4.000000</td>\n",
       "      <td>75.000000</td>\n",
       "      <td>4.000000</td>\n",
       "      <td>2.000000</td>\n",
       "    </tr>\n",
       "  </tbody>\n",
       "</table>\n",
       "</div>"
      ],
      "text/plain": [
       "          duration  credit_amount  installment_commitment  residence_since  \\\n",
       "count  1000.000000    1000.000000             1000.000000      1000.000000   \n",
       "mean     20.903000    3271.258000                2.973000         2.845000   \n",
       "std      12.058814    2822.736876                1.118715         1.103718   \n",
       "min       4.000000     250.000000                1.000000         1.000000   \n",
       "25%      12.000000    1365.500000                2.000000         2.000000   \n",
       "50%      18.000000    2319.500000                3.000000         3.000000   \n",
       "75%      24.000000    3972.250000                4.000000         4.000000   \n",
       "max      72.000000   18424.000000                4.000000         4.000000   \n",
       "\n",
       "               age  existing_credits  num_dependents  \n",
       "count  1000.000000       1000.000000     1000.000000  \n",
       "mean     35.546000          1.407000        1.155000  \n",
       "std      11.375469          0.577654        0.362086  \n",
       "min      19.000000          1.000000        1.000000  \n",
       "25%      27.000000          1.000000        1.000000  \n",
       "50%      33.000000          1.000000        1.000000  \n",
       "75%      42.000000          2.000000        1.000000  \n",
       "max      75.000000          4.000000        2.000000  "
      ]
     },
     "execution_count": 7,
     "metadata": {},
     "output_type": "execute_result"
    }
   ],
   "source": [
    "df.describe()"
   ]
  },
  {
   "cell_type": "code",
   "execution_count": 8,
   "metadata": {},
   "outputs": [],
   "source": [
    "#df.duplicated().sum()"
   ]
  },
  {
   "cell_type": "code",
   "execution_count": 9,
   "metadata": {},
   "outputs": [],
   "source": [
    "#df.isnull().sum()"
   ]
  },
  {
   "cell_type": "code",
   "execution_count": 10,
   "metadata": {},
   "outputs": [],
   "source": [
    "target = df['class']\n",
    "features = df.drop(['class'], axis = 1)"
   ]
  },
  {
   "cell_type": "code",
   "execution_count": 11,
   "metadata": {},
   "outputs": [],
   "source": [
    "m = {'good': 1, 'bad': 0}\n",
    "target = target.map(m)"
   ]
  },
  {
   "cell_type": "code",
   "execution_count": 12,
   "metadata": {},
   "outputs": [
    {
     "data": {
      "text/plain": [
       "1    700\n",
       "0    300\n",
       "Name: class, dtype: int64"
      ]
     },
     "execution_count": 12,
     "metadata": {},
     "output_type": "execute_result"
    }
   ],
   "source": [
    "target.value_counts()"
   ]
  },
  {
   "cell_type": "markdown",
   "metadata": {},
   "source": [
    "## 1.1 Which features are cont and cat"
   ]
  },
  {
   "cell_type": "code",
   "execution_count": 13,
   "metadata": {},
   "outputs": [],
   "source": [
    "numeric = features.dtypes != object"
   ]
  },
  {
   "cell_type": "code",
   "execution_count": 14,
   "metadata": {
    "scrolled": true
   },
   "outputs": [
    {
     "name": "stdout",
     "output_type": "stream",
     "text": [
      "- Numeric features are ['duration', 'credit_amount', 'installment_commitment', 'residence_since', 'age', 'existing_credits', 'num_dependents']\n",
      "- Categorical features are ['checking_status', 'credit_history', 'purpose', 'savings_status', 'employment', 'personal_status', 'other_parties', 'property_magnitude', 'other_payment_plans', 'housing', 'job', 'own_telephone', 'foreign_worker']\n"
     ]
    }
   ],
   "source": [
    "num_col = features.columns[numeric]\n",
    "cat_col = features.columns[~numeric]\n",
    "print('- Numeric features are ' + str(num_col.values.tolist()))\n",
    "print('- Categorical features are ' + str(cat_col.values.tolist()))"
   ]
  },
  {
   "cell_type": "markdown",
   "metadata": {},
   "source": [
    "## 1.2 Visualize univariate distribution"
   ]
  },
  {
   "cell_type": "code",
   "execution_count": 15,
   "metadata": {
    "scrolled": false
   },
   "outputs": [
    {
     "data": {
      "image/png": "[encoded data removed]",
      "text/plain": [
       "<Figure size 432x288 with 1 Axes>"
      ]
     },
     "metadata": {
      "needs_background": "light"
     },
     "output_type": "display_data"
    },
    {
     "data": {
      "image/png": "[encoded data removed]",
      "text/plain": [
       "<Figure size 432x288 with 1 Axes>"
      ]
     },
     "metadata": {
      "needs_background": "light"
     },
     "output_type": "display_data"
    },
    {
     "data": {
      "image/png": "[encoded data removed]",
      "text/plain": [
       "<Figure size 432x288 with 1 Axes>"
      ]
     },
     "metadata": {
      "needs_background": "light"
     },
     "output_type": "display_data"
    },
    {
     "data": {
      "image/png": "[encoded data removed]",
      "text/plain": [
       "<Figure size 432x288 with 1 Axes>"
      ]
     },
     "metadata": {
      "needs_background": "light"
     },
     "output_type": "display_data"
    },
    {
     "data": {
      "image/png": "[encoded data removed]",
      "text/plain": [
       "<Figure size 432x288 with 1 Axes>"
      ]
     },
     "metadata": {
      "needs_background": "light"
     },
     "output_type": "display_data"
    },
    {
     "data": {
      "image/png": "[encoded data removed]",
      "text/plain": [
       "<Figure size 432x288 with 1 Axes>"
      ]
     },
     "metadata": {
      "needs_background": "light"
     },
     "output_type": "display_data"
    },
    {
     "data": {
      "image/png": "[encoded data removed]",
      "text/plain": [
       "<Figure size 432x288 with 1 Axes>"
      ]
     },
     "metadata": {
      "needs_background": "light"
     },
     "output_type": "display_data"
    }
   ],
   "source": [
    "for col in features.columns[numeric]:\n",
    "    sns.distplot(features[col], kde = False)\n",
    "    plt.xlabel(col)\n",
    "    plt.ylabel('count')\n",
    "    plt.show()"
   ]
  },
  {
   "cell_type": "markdown",
   "metadata": {},
   "source": [
    "## 1.3 Split and preprocess data without Pipeline"
   ]
  },
  {
   "cell_type": "code",
   "execution_count": 16,
   "metadata": {},
   "outputs": [],
   "source": [
    "from sklearn.model_selection import train_test_split\n",
    "\n",
    "X_train, X_test, y_train, y_test = train_test_split(features, target, \n",
    "                                                    random_state = 1234, stratify = target)"
   ]
  },
  {
   "cell_type": "code",
   "execution_count": 17,
   "metadata": {},
   "outputs": [],
   "source": [
    "from sklearn.preprocessing import MinMaxScaler, StandardScaler\n",
    "from sklearn.preprocessing import LabelEncoder, OneHotEncoder"
   ]
  },
  {
   "cell_type": "code",
   "execution_count": 18,
   "metadata": {},
   "outputs": [
    {
     "name": "stdout",
     "output_type": "stream",
     "text": [
      "(750, 7) (250, 7)\n"
     ]
    }
   ],
   "source": [
    "# Scale numeric features with StandardScaler\n",
    "\n",
    "sc = StandardScaler()\n",
    "train_numcol = sc.fit_transform(X_train.loc[:,num_col])\n",
    "test_numcol = sc.transform(X_test.loc[:,num_col])\n",
    "print(train_numcol.shape, test_numcol.shape)\n"
   ]
  },
  {
   "cell_type": "code",
   "execution_count": 19,
   "metadata": {},
   "outputs": [],
   "source": [
    "# # Scale numeric features with MinMaxScaler\n",
    "\n",
    "# sc = MinMaxScaler()\n",
    "# train_numcol = sc.fit_transform(X_train.loc[:,num_col])\n",
    "# test_numcol = sc.transform(X_test.loc[:,num_col])\n",
    "# print(train_numcol.shape, test_numcol.shape)\n"
   ]
  },
  {
   "cell_type": "code",
   "execution_count": 20,
   "metadata": {},
   "outputs": [
    {
     "name": "stdout",
     "output_type": "stream",
     "text": [
      "(750, 54) (250, 54)\n"
     ]
    }
   ],
   "source": [
    "# Encode categorical features\n",
    "from sklearn.preprocessing import LabelEncoder, OneHotEncoder\n",
    "\n",
    "ohe = OneHotEncoder()\n",
    "train_catcol = ohe.fit_transform(X_train.loc[:, cat_col]).toarray()\n",
    "test_catcol = ohe.transform(X_test.loc[:,cat_col]).toarray()\n",
    "print(train_catcol.shape, test_catcol.shape)"
   ]
  },
  {
   "cell_type": "code",
   "execution_count": 21,
   "metadata": {},
   "outputs": [
    {
     "name": "stdout",
     "output_type": "stream",
     "text": [
      "(750, 61) (250, 61)\n"
     ]
    }
   ],
   "source": [
    "X_train = np.concatenate((train_numcol, train_catcol), axis = 1)\n",
    "X_test = np.concatenate((test_numcol, test_catcol), axis = 1)\n",
    "print(X_train.shape, X_test.shape)"
   ]
  },
  {
   "cell_type": "code",
   "execution_count": 22,
   "metadata": {
    "scrolled": true
   },
   "outputs": [
    {
     "name": "stdout",
     "output_type": "stream",
     "text": [
      "   fit_time  score_time  test_score  train_score\n",
      "0  0.020937    0.000999    0.693333     0.800000\n",
      "1  0.028922    0.001000    0.813333     0.785185\n",
      "2  0.027925    0.000000    0.773333     0.786667\n",
      "3  0.022937    0.000000    0.693333     0.797037\n",
      "4  0.014959    0.000998    0.720000     0.797037\n",
      "5  0.015957    0.000000    0.786667     0.783704\n",
      "6  0.022938    0.000000    0.786667     0.798519\n",
      "7  0.018949    0.000000    0.786667     0.785185\n",
      "8  0.015958    0.000000    0.720000     0.798519\n",
      "9  0.015958    0.000995    0.760000     0.804444\n",
      "\n",
      "\n",
      "Score mean = 0.7533333333333333, Score STD = 0.043204937989385725\n"
     ]
    }
   ],
   "source": [
    "from sklearn.linear_model import LogisticRegression\n",
    "from sklearn.model_selection import cross_val_score, cross_validate\n",
    "\n",
    "\n",
    "logreg = LogisticRegression()\n",
    "# score = cross_val_score(logreg, X_train, y_train, cv = 10)\n",
    "# print(score, '\\n', score.mean()) # score on X_train, y_train\n",
    "cv_res = cross_validate(logreg, X_train, y_train, cv = 10, return_train_score = True)\n",
    "cv_df = pd.DataFrame(cv_res)\n",
    "print(cv_df)\n",
    "print('\\n')\n",
    "print('Score mean = {}, Score STD = {}'.format(cv_df.test_score.mean(), cv_df.test_score.std()))\n",
    "\n",
    "\n",
    "#logreg.fit(X_train, y_train)\n",
    "#y_pred = logreg.predict(X_test)\n",
    "#print(logreg.score(X_test, y_test))#"
   ]
  },
  {
   "cell_type": "markdown",
   "metadata": {},
   "source": [
    "## 1.4 Using Column transformer + Pipeline + cross_validate\n",
    "## With KNN / LogReg /  Linear SVC"
   ]
  },
  {
   "cell_type": "code",
   "execution_count": 23,
   "metadata": {},
   "outputs": [],
   "source": [
    "from sklearn.compose import ColumnTransformer, make_column_transformer\n",
    "from sklearn.model_selection import GridSearchCV\n",
    "from sklearn.pipeline import Pipeline, make_pipeline\n",
    "from sklearn.neighbors import KNeighborsClassifier\n",
    "from sklearn.linear_model import LogisticRegression\n",
    "from sklearn.svm import LinearSVC\n"
   ]
  },
  {
   "cell_type": "code",
   "execution_count": 24,
   "metadata": {},
   "outputs": [],
   "source": [
    "from sklearn.model_selection import train_test_split\n",
    "\n",
    "X_train, X_test, y_train, y_test = train_test_split(features, target, \n",
    "                                                    random_state = 1234, stratify = target)"
   ]
  },
  {
   "cell_type": "code",
   "execution_count": 25,
   "metadata": {},
   "outputs": [],
   "source": [
    "knn = KNeighborsClassifier()\n",
    "logreg = LogisticRegression()\n",
    "svc = LinearSVC(max_iter = 5000)\n",
    "models = [knn, logreg, svc]"
   ]
  },
  {
   "cell_type": "code",
   "execution_count": 26,
   "metadata": {},
   "outputs": [
    {
     "name": "stdout",
     "output_type": "stream",
     "text": [
      "   fit_time  score_time  test_score  train_score\n",
      "0  0.029953    0.012965    0.733333     0.807407\n",
      "1  0.017953    0.012963    0.760000     0.808889\n",
      "2  0.017951    0.012964    0.720000     0.811852\n",
      "3  0.017950    0.015920    0.720000     0.807407\n",
      "4  0.018946    0.012966    0.613333     0.831111\n",
      "5  0.018948    0.012965    0.746667     0.797037\n",
      "6  0.019946    0.013963    0.773333     0.802963\n",
      "7  0.018949    0.011969    0.773333     0.801481\n",
      "8  0.018945    0.011971    0.760000     0.808889\n",
      "9  0.018951    0.011964    0.680000     0.805926\n",
      "\n",
      "\n",
      "Score mean = 0.728, Score STD = 0.04957099908835089\n"
     ]
    }
   ],
   "source": [
    "ct = make_column_transformer((StandardScaler(), numeric), (OneHotEncoder(), ~numeric))\n",
    "pipe = make_pipeline(ct, knn)\n",
    "cv_knn = cross_validate(pipe, X_train, y_train, cv = 10, return_train_score = True)\n",
    "cv_knn_df = pd.DataFrame(cv_knn)\n",
    "print(cv_knn_df)\n",
    "print('\\n')\n",
    "print('Score mean = {}, Score STD = {}'.format(cv_knn_df.test_score.mean(), cv_knn_df.test_score.std()))"
   ]
  },
  {
   "cell_type": "code",
   "execution_count": 27,
   "metadata": {},
   "outputs": [
    {
     "name": "stdout",
     "output_type": "stream",
     "text": [
      "KNeighborsClassifier(algorithm='auto', leaf_size=30, metric='minkowski',\n",
      "                     metric_params=None, n_jobs=None, n_neighbors=5, p=2,\n",
      "                     weights='uniform')\n",
      "---\n",
      "\n",
      "\n",
      "Score mean = 0.728, Score STD = 0.04957099908835089\n",
      "-----\n",
      "LogisticRegression(C=1.0, class_weight=None, dual=False, fit_intercept=True,\n",
      "                   intercept_scaling=1, l1_ratio=None, max_iter=100,\n",
      "                   multi_class='auto', n_jobs=None, penalty='l2',\n",
      "                   random_state=None, solver='lbfgs', tol=0.0001, verbose=0,\n",
      "                   warm_start=False)\n",
      "---\n",
      "\n",
      "\n",
      "Score mean = 0.7533333333333333, Score STD = 0.043204937989385725\n",
      "-----\n",
      "LinearSVC(C=1.0, class_weight=None, dual=True, fit_intercept=True,\n",
      "          intercept_scaling=1, loss='squared_hinge', max_iter=5000,\n",
      "          multi_class='ovr', penalty='l2', random_state=None, tol=0.0001,\n",
      "          verbose=0)\n",
      "---\n",
      "\n",
      "\n",
      "Score mean = 0.748, Score STD = 0.047640630029730166\n",
      "-----\n"
     ]
    }
   ],
   "source": [
    "ct = make_column_transformer((StandardScaler(), numeric), (OneHotEncoder(), ~numeric))\n",
    "for model in models: \n",
    "    pipe = make_pipeline(ct, model)\n",
    "    cv_model = cross_validate(pipe, X_train, y_train, cv = 10, return_train_score = True)\n",
    "    cv_model_df = pd.DataFrame(cv_model)\n",
    "    print(model)\n",
    "    print('---')\n",
    "    #print(cv_model_df)\n",
    "    print('\\n')\n",
    "    print('Score mean = {}, Score STD = {}'.format(cv_model_df.test_score.mean(), cv_model_df.test_score.std()))\n",
    "    print('-----')"
   ]
  },
  {
   "cell_type": "markdown",
   "metadata": {},
   "source": [
    "## 1.5 Tune parameteres using GridSearchCV"
   ]
  },
  {
   "cell_type": "code",
   "execution_count": 28,
   "metadata": {},
   "outputs": [
    {
     "data": {
      "text/html": [
       "<div>\n",
       "<style scoped>\n",
       "    .dataframe tbody tr th:only-of-type {\n",
       "        vertical-align: middle;\n",
       "    }\n",
       "\n",
       "    .dataframe tbody tr th {\n",
       "        vertical-align: top;\n",
       "    }\n",
       "\n",
       "    .dataframe thead th {\n",
       "        text-align: right;\n",
       "    }\n",
       "</style>\n",
       "<table border=\"1\" class=\"dataframe\">\n",
       "  <thead>\n",
       "    <tr style=\"text-align: right;\">\n",
       "      <th></th>\n",
       "      <th>k_neighbors</th>\n",
       "      <th>mean_test_score</th>\n",
       "      <th>std_test_score</th>\n",
       "      <th>mean_train_score</th>\n",
       "      <th>std_train_score</th>\n",
       "    </tr>\n",
       "  </thead>\n",
       "  <tbody>\n",
       "    <tr>\n",
       "      <th>0</th>\n",
       "      <td>1</td>\n",
       "      <td>0.701333</td>\n",
       "      <td>0.040966</td>\n",
       "      <td>1.000000</td>\n",
       "      <td>0.000000</td>\n",
       "    </tr>\n",
       "    <tr>\n",
       "      <th>1</th>\n",
       "      <td>2</td>\n",
       "      <td>0.665333</td>\n",
       "      <td>0.054471</td>\n",
       "      <td>0.879259</td>\n",
       "      <td>0.006009</td>\n",
       "    </tr>\n",
       "    <tr>\n",
       "      <th>2</th>\n",
       "      <td>3</td>\n",
       "      <td>0.744000</td>\n",
       "      <td>0.061333</td>\n",
       "      <td>0.845630</td>\n",
       "      <td>0.007606</td>\n",
       "    </tr>\n",
       "    <tr>\n",
       "      <th>3</th>\n",
       "      <td>4</td>\n",
       "      <td>0.722667</td>\n",
       "      <td>0.061910</td>\n",
       "      <td>0.836296</td>\n",
       "      <td>0.008229</td>\n",
       "    </tr>\n",
       "    <tr>\n",
       "      <th>4</th>\n",
       "      <td>5</td>\n",
       "      <td>0.728000</td>\n",
       "      <td>0.047027</td>\n",
       "      <td>0.808296</td>\n",
       "      <td>0.008618</td>\n",
       "    </tr>\n",
       "  </tbody>\n",
       "</table>\n",
       "</div>"
      ],
      "text/plain": [
       "  k_neighbors  mean_test_score  std_test_score  mean_train_score  \\\n",
       "0           1         0.701333        0.040966          1.000000   \n",
       "1           2         0.665333        0.054471          0.879259   \n",
       "2           3         0.744000        0.061333          0.845630   \n",
       "3           4         0.722667        0.061910          0.836296   \n",
       "4           5         0.728000        0.047027          0.808296   \n",
       "\n",
       "   std_train_score  \n",
       "0         0.000000  \n",
       "1         0.006009  \n",
       "2         0.007606  \n",
       "3         0.008229  \n",
       "4         0.008618  "
      ]
     },
     "execution_count": 28,
     "metadata": {},
     "output_type": "execute_result"
    }
   ],
   "source": [
    "#knn classifer\n",
    "\n",
    "#Transform data, create pipeline\n",
    "ct = make_column_transformer((StandardScaler(),numeric), (OneHotEncoder(),~numeric))\n",
    "knn_pipe = make_pipeline(ct, KNeighborsClassifier())\n",
    "\n",
    "#create grid search\n",
    "param = {'kneighborsclassifier__n_neighbors': range(1,30)}\n",
    "grid = GridSearchCV(knn_pipe, param, cv = 10, return_train_score = True)\n",
    "grid.fit(X_train, y_train)\n",
    "\n",
    "#Create grid search result dataframe\n",
    "temp_df = pd.DataFrame(grid.cv_results_)\n",
    "grid_df = temp_df[['param_kneighborsclassifier__n_neighbors','mean_test_score', 'std_test_score','mean_train_score',\n",
    "       'std_train_score']]\n",
    "grid_df = grid_df.rename(columns = {'param_kneighborsclassifier__n_neighbors':'k_neighbors'})\n",
    "grid_df.head()\n"
   ]
  },
  {
   "cell_type": "code",
   "execution_count": 29,
   "metadata": {},
   "outputs": [],
   "source": [
    "# Wanted to try:\n",
    "# from sklearn.model_selection import validation_curve, learning_curve\n"
   ]
  },
  {
   "cell_type": "code",
   "execution_count": 30,
   "metadata": {},
   "outputs": [
    {
     "name": "stdout",
     "output_type": "stream",
     "text": [
      "{'kneighborsclassifier__n_neighbors': 3} 0.744\n"
     ]
    }
   ],
   "source": [
    "# find the best param and best score\n",
    "print(grid.best_params_, grid.best_score_)"
   ]
  },
  {
   "cell_type": "code",
   "execution_count": 31,
   "metadata": {},
   "outputs": [],
   "source": [
    "# best_k = list(grid.best_params_.keys())[0]\n",
    "# best_k = grid.best_params_[best_k]\n",
    "# best_k"
   ]
  },
  {
   "cell_type": "code",
   "execution_count": 32,
   "metadata": {},
   "outputs": [
    {
     "data": {
      "image/png": "[encoded data removed]",
      "text/plain": [
       "<Figure size 432x288 with 1 Axes>"
      ]
     },
     "metadata": {
      "needs_background": "light"
     },
     "output_type": "display_data"
    },
    {
     "name": "stdout",
     "output_type": "stream",
     "text": [
      "\n",
      "\n",
      "Final test score is  0.708\n"
     ]
    }
   ],
   "source": [
    "# Plot train score, test score and best param\n",
    "\n",
    "plt.plot('k_neighbors', 'mean_test_score', data = grid_df, label = 'Mean test score')\n",
    "plt.plot('k_neighbors', 'mean_train_score', data = grid_df, label = 'Mean train score')\n",
    "plt.axvline(x = 3, linestyle = '--', color = 'r', label = 'Best parameter')\n",
    "plt.legend()\n",
    "plt.xlabel('k_neighbors')\n",
    "plt.ylabel('Score')\n",
    "plt.title('KNN model')\n",
    "plt.show()\n",
    "print('\\n')\n",
    "#score test set with best param\n",
    "test_score = grid.score(X_test, y_test)\n",
    "print('Final test score is ', test_score)"
   ]
  },
  {
   "cell_type": "code",
   "execution_count": 33,
   "metadata": {
    "scrolled": false
   },
   "outputs": [
    {
     "data": {
      "text/html": [
       "<div>\n",
       "<style scoped>\n",
       "    .dataframe tbody tr th:only-of-type {\n",
       "        vertical-align: middle;\n",
       "    }\n",
       "\n",
       "    .dataframe tbody tr th {\n",
       "        vertical-align: top;\n",
       "    }\n",
       "\n",
       "    .dataframe thead th {\n",
       "        text-align: right;\n",
       "    }\n",
       "</style>\n",
       "<table border=\"1\" class=\"dataframe\">\n",
       "  <thead>\n",
       "    <tr style=\"text-align: right;\">\n",
       "      <th></th>\n",
       "      <th>C</th>\n",
       "      <th>mean_test_score</th>\n",
       "      <th>std_test_score</th>\n",
       "      <th>mean_train_score</th>\n",
       "      <th>std_train_score</th>\n",
       "    </tr>\n",
       "  </thead>\n",
       "  <tbody>\n",
       "    <tr>\n",
       "      <th>0</th>\n",
       "      <td>0.0316228</td>\n",
       "      <td>0.741333</td>\n",
       "      <td>0.032221</td>\n",
       "      <td>0.766074</td>\n",
       "      <td>0.006540</td>\n",
       "    </tr>\n",
       "    <tr>\n",
       "      <th>1</th>\n",
       "      <td>0.0379729</td>\n",
       "      <td>0.742667</td>\n",
       "      <td>0.032687</td>\n",
       "      <td>0.772444</td>\n",
       "      <td>0.005783</td>\n",
       "    </tr>\n",
       "    <tr>\n",
       "      <th>2</th>\n",
       "      <td>0.0455982</td>\n",
       "      <td>0.744000</td>\n",
       "      <td>0.033625</td>\n",
       "      <td>0.774815</td>\n",
       "      <td>0.006215</td>\n",
       "    </tr>\n",
       "    <tr>\n",
       "      <th>3</th>\n",
       "      <td>0.0547547</td>\n",
       "      <td>0.744000</td>\n",
       "      <td>0.032551</td>\n",
       "      <td>0.778370</td>\n",
       "      <td>0.007413</td>\n",
       "    </tr>\n",
       "    <tr>\n",
       "      <th>4</th>\n",
       "      <td>0.0657498</td>\n",
       "      <td>0.746667</td>\n",
       "      <td>0.027968</td>\n",
       "      <td>0.780000</td>\n",
       "      <td>0.005972</td>\n",
       "    </tr>\n",
       "  </tbody>\n",
       "</table>\n",
       "</div>"
      ],
      "text/plain": [
       "           C  mean_test_score  std_test_score  mean_train_score  \\\n",
       "0  0.0316228         0.741333        0.032221          0.766074   \n",
       "1  0.0379729         0.742667        0.032687          0.772444   \n",
       "2  0.0455982         0.744000        0.033625          0.774815   \n",
       "3  0.0547547         0.744000        0.032551          0.778370   \n",
       "4  0.0657498         0.746667        0.027968          0.780000   \n",
       "\n",
       "   std_train_score  \n",
       "0         0.006540  \n",
       "1         0.005783  \n",
       "2         0.006215  \n",
       "3         0.007413  \n",
       "4         0.005972  "
      ]
     },
     "execution_count": 33,
     "metadata": {},
     "output_type": "execute_result"
    }
   ],
   "source": [
    "# Logreg\n",
    "\n",
    "# Transform column, make pipeline, create and fit grid\n",
    "ct =make_column_transformer((StandardScaler(), numeric), (OneHotEncoder(), ~numeric))\n",
    "logreg_pipe = make_pipeline(ct, LogisticRegression(max_iter = 1000))\n",
    "param = {'logisticregression__C': np.logspace(-1.5, 0.01, 20)}\n",
    "grid = GridSearchCV(logreg_pipe,param_grid = param, cv = 10, return_train_score = True)\n",
    "grid.fit(X_train,y_train)\n",
    "\n",
    "#Create grid search result dataframe\n",
    "temp_df = pd.DataFrame(grid.cv_results_)\n",
    "grid_df = temp_df[['param_logisticregression__C','mean_test_score', 'std_test_score','mean_train_score',\n",
    "       'std_train_score']]\n",
    "grid_df = grid_df.rename(columns = {'param_logisticregression__C':'C'})\n",
    "grid_df.head()\n",
    "\n",
    "# print(grid.score(X_test, y_test))"
   ]
  },
  {
   "cell_type": "code",
   "execution_count": 34,
   "metadata": {
    "scrolled": true
   },
   "outputs": [
    {
     "name": "stdout",
     "output_type": "stream",
     "text": [
      "{'logisticregression__C': 0.13670659732155513}\n",
      "0.7586666666666666\n"
     ]
    }
   ],
   "source": [
    "print(grid.best_params_)\n",
    "print(grid.best_score_)"
   ]
  },
  {
   "cell_type": "code",
   "execution_count": 35,
   "metadata": {},
   "outputs": [
    {
     "data": {
      "image/png": "[encoded data removed]",
      "text/plain": [
       "<Figure size 432x288 with 1 Axes>"
      ]
     },
     "metadata": {
      "needs_background": "light"
     },
     "output_type": "display_data"
    },
    {
     "name": "stdout",
     "output_type": "stream",
     "text": [
      "\n",
      "\n",
      "Final test score is  0.78\n"
     ]
    }
   ],
   "source": [
    "# Plot train score, test score and best param\n",
    "\n",
    "plt.plot('C', 'mean_test_score', data = grid_df, label = 'Mean test score')\n",
    "plt.plot('C', 'mean_train_score', data = grid_df, label = 'Mean train score')\n",
    "plt.axvline(x = 0.136, linestyle = '--', color = 'r', label = 'Best parameter')\n",
    "plt.legend()\n",
    "plt.xlabel('C')\n",
    "plt.ylabel('Score')\n",
    "plt.title('Logistic Regression model')\n",
    "plt.show()\n",
    "print('\\n')\n",
    "\n",
    "#score test set with best param\n",
    "test_score = grid.score(X_test, y_test)\n",
    "print('Final test score is ', test_score)"
   ]
  },
  {
   "cell_type": "code",
   "execution_count": 36,
   "metadata": {},
   "outputs": [
    {
     "data": {
      "text/html": [
       "<div>\n",
       "<style scoped>\n",
       "    .dataframe tbody tr th:only-of-type {\n",
       "        vertical-align: middle;\n",
       "    }\n",
       "\n",
       "    .dataframe tbody tr th {\n",
       "        vertical-align: top;\n",
       "    }\n",
       "\n",
       "    .dataframe thead th {\n",
       "        text-align: right;\n",
       "    }\n",
       "</style>\n",
       "<table border=\"1\" class=\"dataframe\">\n",
       "  <thead>\n",
       "    <tr style=\"text-align: right;\">\n",
       "      <th></th>\n",
       "      <th>C</th>\n",
       "      <th>mean_test_score</th>\n",
       "      <th>std_test_score</th>\n",
       "      <th>mean_train_score</th>\n",
       "      <th>std_train_score</th>\n",
       "    </tr>\n",
       "  </thead>\n",
       "  <tbody>\n",
       "    <tr>\n",
       "      <th>0</th>\n",
       "      <td>0.00316228</td>\n",
       "      <td>0.737333</td>\n",
       "      <td>0.026026</td>\n",
       "      <td>0.761481</td>\n",
       "      <td>0.008195</td>\n",
       "    </tr>\n",
       "    <tr>\n",
       "      <th>1</th>\n",
       "      <td>0.00379269</td>\n",
       "      <td>0.737333</td>\n",
       "      <td>0.031581</td>\n",
       "      <td>0.766519</td>\n",
       "      <td>0.008038</td>\n",
       "    </tr>\n",
       "    <tr>\n",
       "      <th>2</th>\n",
       "      <td>0.00454878</td>\n",
       "      <td>0.742667</td>\n",
       "      <td>0.036782</td>\n",
       "      <td>0.771704</td>\n",
       "      <td>0.005108</td>\n",
       "    </tr>\n",
       "    <tr>\n",
       "      <th>3</th>\n",
       "      <td>0.00545559</td>\n",
       "      <td>0.742667</td>\n",
       "      <td>0.032687</td>\n",
       "      <td>0.774815</td>\n",
       "      <td>0.006980</td>\n",
       "    </tr>\n",
       "    <tr>\n",
       "      <th>4</th>\n",
       "      <td>0.00654319</td>\n",
       "      <td>0.749333</td>\n",
       "      <td>0.035678</td>\n",
       "      <td>0.778667</td>\n",
       "      <td>0.007789</td>\n",
       "    </tr>\n",
       "  </tbody>\n",
       "</table>\n",
       "</div>"
      ],
      "text/plain": [
       "            C  mean_test_score  std_test_score  mean_train_score  \\\n",
       "0  0.00316228         0.737333        0.026026          0.761481   \n",
       "1  0.00379269         0.737333        0.031581          0.766519   \n",
       "2  0.00454878         0.742667        0.036782          0.771704   \n",
       "3  0.00545559         0.742667        0.032687          0.774815   \n",
       "4  0.00654319         0.749333        0.035678          0.778667   \n",
       "\n",
       "   std_train_score  \n",
       "0         0.008195  \n",
       "1         0.008038  \n",
       "2         0.005108  \n",
       "3         0.006980  \n",
       "4         0.007789  "
      ]
     },
     "execution_count": 36,
     "metadata": {},
     "output_type": "execute_result"
    }
   ],
   "source": [
    "#Linear SVC\n",
    "\n",
    "#Transform column, create pipe, create grid and fit grid\n",
    "ct = make_column_transformer((StandardScaler(), numeric), (OneHotEncoder(), ~numeric))\n",
    "svc_pipe = make_pipeline(ct, LinearSVC(max_iter = 5000))\n",
    "param = {'linearsvc__C': np.logspace(-2.5, -1, 20)}\n",
    "grid = GridSearchCV(svc_pipe, param_grid = param, cv =10, return_train_score = True)\n",
    "grid.fit(X_train, y_train)\n",
    "\n",
    "\n",
    "#Create grid search result dataframe\n",
    "temp_df = pd.DataFrame(grid.cv_results_)\n",
    "grid_df = temp_df[['param_linearsvc__C','mean_test_score', 'std_test_score','mean_train_score',\n",
    "       'std_train_score']]\n",
    "grid_df = grid_df.rename(columns = {'param_linearsvc__C':'C'})\n",
    "grid_df.head()\n",
    "\n"
   ]
  },
  {
   "cell_type": "code",
   "execution_count": 37,
   "metadata": {},
   "outputs": [
    {
     "name": "stdout",
     "output_type": "stream",
     "text": [
      "{'linearsvc__C': 0.01947483039908756}\n",
      "0.7573333333333333\n"
     ]
    }
   ],
   "source": [
    "print(grid.best_params_)\n",
    "print(grid.best_score_)"
   ]
  },
  {
   "cell_type": "code",
   "execution_count": 38,
   "metadata": {},
   "outputs": [
    {
     "data": {
      "image/png": "[encoded data removed]",
      "text/plain": [
       "<Figure size 432x288 with 1 Axes>"
      ]
     },
     "metadata": {
      "needs_background": "light"
     },
     "output_type": "display_data"
    },
    {
     "name": "stdout",
     "output_type": "stream",
     "text": [
      "\n",
      "\n",
      "Final test score is  0.784\n"
     ]
    }
   ],
   "source": [
    "# Plot train score, test score and best param\n",
    "\n",
    "plt.plot('C', 'mean_test_score', data = grid_df, label = 'Mean test score')\n",
    "plt.plot('C', 'mean_train_score', data = grid_df, label = 'Mean train score')\n",
    "plt.axvline(x = 0.0194, linestyle = '--', color = 'r', label = 'Best parameter')\n",
    "# plt.fill_between('C', grid_df['mean_train_score']- grid_df['std_train_score'], grid_df['mean_train_score']+ grid_df['std_train_score'], data = grid_df, color=\"gray\")\n",
    "# plt.fill_between('C', grid_df['mean_test_score']- grid_df['std_test_score'], grid_df['mean_test_score']+ grid_df['std_test_score'], color=\"gainsboro\")\n",
    "plt.legend()\n",
    "plt.xlabel('C')\n",
    "plt.ylabel('Score')\n",
    "plt.title('LinearSVC model')\n",
    "plt.show()\n",
    "print('\\n')\n",
    "\n",
    "#score test set with best param\n",
    "test_score = grid.score(X_test, y_test)\n",
    "print('Final test score is ', test_score)"
   ]
  },
  {
   "cell_type": "markdown",
   "metadata": {},
   "source": [
    "## 1.6 CV strategy:  Stratified KFold --> KFold with shuffling"
   ]
  },
  {
   "cell_type": "code",
   "execution_count": 39,
   "metadata": {},
   "outputs": [],
   "source": [
    "X_train, X_test, y_train, y_test = train_test_split(features, target, random_state = 1234, stratify = target)"
   ]
  },
  {
   "cell_type": "code",
   "execution_count": 40,
   "metadata": {},
   "outputs": [
    {
     "name": "stdout",
     "output_type": "stream",
     "text": [
      "  n_neighbors  mean_test_score  std_test_score  mean_train_score  \\\n",
      "0           1         0.704000        0.044542          1.000000   \n",
      "1           2         0.680000        0.049531          0.879407   \n",
      "2           3         0.741333        0.040530          0.847704   \n",
      "3           4         0.718667        0.040639          0.835407   \n",
      "4           5         0.741333        0.038736          0.811111   \n",
      "\n",
      "   std_train_score  \n",
      "0         0.000000  \n",
      "1         0.004647  \n",
      "2         0.010617  \n",
      "3         0.006540  \n",
      "4         0.006600  \n"
     ]
    }
   ],
   "source": [
    "# KNN with KFold shuffling\n",
    "from sklearn.model_selection import KFold\n",
    "\n",
    "ct = make_column_transformer((StandardScaler(), numeric), (OneHotEncoder(), ~numeric))\n",
    "kfold = KFold(n_splits = 10, shuffle = True, random_state = 23)\n",
    "knn_pipe = make_pipeline(ct, KNeighborsClassifier())\n",
    "param = {'kneighborsclassifier__n_neighbors': range(1,30)}\n",
    "\n",
    "grid = GridSearchCV(knn_pipe, param_grid = param, cv = kfold, return_train_score = True)\n",
    "grid.fit(X_train, y_train)\n",
    "temp_df = pd.DataFrame(grid.cv_results_)\n",
    "grid_df = temp_df[['param_kneighborsclassifier__n_neighbors','mean_test_score', 'std_test_score',\\\n",
    "                  'mean_train_score','std_train_score']]\n",
    "\n",
    "grid_df = grid_df.rename(columns = {'param_kneighborsclassifier__n_neighbors': 'n_neighbors'})\n",
    "print(grid_df.head())\n"
   ]
  },
  {
   "cell_type": "code",
   "execution_count": 41,
   "metadata": {},
   "outputs": [
    {
     "name": "stdout",
     "output_type": "stream",
     "text": [
      "{'kneighborsclassifier__n_neighbors': 6}\n",
      "0.7493333333333332\n"
     ]
    }
   ],
   "source": [
    "print(grid.best_params_)\n",
    "print(grid.best_score_)"
   ]
  },
  {
   "cell_type": "code",
   "execution_count": null,
   "metadata": {},
   "outputs": [],
   "source": []
  },
  {
   "cell_type": "code",
   "execution_count": 42,
   "metadata": {},
   "outputs": [],
   "source": [
    "#Function to fit model with kfold_shuffling\n",
    "def fit_with_kfold_shuffling(model, param, kstate = 23):\n",
    "    ct = make_column_transformer((StandardScaler(), numeric), (OneHotEncoder(), ~numeric))\n",
    "    kfold = KFold(n_splits = 10, random_state = kstate, shuffle = True)\n",
    "    pipe = make_pipeline(ct, model)\n",
    "    grid = GridSearchCV(pipe, cv = kfold, param_grid = param, return_train_score = True)\n",
    "    grid.fit(X_train, y_train)\n",
    "    return(grid.best_params_, grid.best_score_)"
   ]
  },
  {
   "cell_type": "code",
   "execution_count": 43,
   "metadata": {},
   "outputs": [
    {
     "name": "stdout",
     "output_type": "stream",
     "text": [
      "{'kneighborsclassifier__n_neighbors': 6} 0.7493333333333332\n"
     ]
    }
   ],
   "source": [
    "knn_param, knn_score = fit_with_kfold_shuffling(KNeighborsClassifier(),\\\n",
    "                                               param = {'kneighborsclassifier__n_neighbors': range(1,30)},\\\n",
    "                                               kstate = 23)\n",
    "print(knn_param, knn_score)"
   ]
  },
  {
   "cell_type": "code",
   "execution_count": 44,
   "metadata": {},
   "outputs": [
    {
     "name": "stdout",
     "output_type": "stream",
     "text": [
      "{'kneighborsclassifier__n_neighbors': 12} 0.7426666666666667\n"
     ]
    }
   ],
   "source": [
    "knn_param, knn_score = fit_with_kfold_shuffling(KNeighborsClassifier(),\\\n",
    "                                               param = {'kneighborsclassifier__n_neighbors': range(1,30)},\\\n",
    "                                               kstate = 1234)\n",
    "print(knn_param, knn_score)"
   ]
  },
  {
   "cell_type": "code",
   "execution_count": 45,
   "metadata": {},
   "outputs": [
    {
     "name": "stdout",
     "output_type": "stream",
     "text": [
      "{'logisticregression__C': 0.08337822234717891} 0.7546666666666666\n"
     ]
    }
   ],
   "source": [
    "logreg_param, logreg_score = fit_with_kfold_shuffling(LogisticRegression(max_iter = 1000),\\\n",
    "                                               param = {'logisticregression__C': np.logspace(-2.5,-1,20)},\\\n",
    "                                               kstate = 23)\n",
    "print(logreg_param, logreg_score)"
   ]
  },
  {
   "cell_type": "code",
   "execution_count": 46,
   "metadata": {},
   "outputs": [
    {
     "name": "stdout",
     "output_type": "stream",
     "text": [
      "{'logisticregression__C': 0.1} 0.756\n"
     ]
    }
   ],
   "source": [
    "logreg_param, logreg_score = fit_with_kfold_shuffling(LogisticRegression(max_iter = 1000),\\\n",
    "                                               param = {'logisticregression__C': np.logspace(-2.5,-1,20)},\\\n",
    "                                               kstate = 1234)\n",
    "print(logreg_param, logreg_score)"
   ]
  },
  {
   "cell_type": "code",
   "execution_count": 47,
   "metadata": {},
   "outputs": [
    {
     "name": "stdout",
     "output_type": "stream",
     "text": [
      "{'linearsvc__C': 0.00941204967268067} 0.756\n"
     ]
    }
   ],
   "source": [
    "svc_param, svc_score = fit_with_kfold_shuffling(LinearSVC(max_iter = 5000),\\\n",
    "                                               param = {'linearsvc__C': np.logspace(-2.5,-1,20)},\\\n",
    "                                               kstate = 23)\n",
    "print(svc_param, svc_score)"
   ]
  },
  {
   "cell_type": "code",
   "execution_count": 48,
   "metadata": {},
   "outputs": [
    {
     "name": "stdout",
     "output_type": "stream",
     "text": [
      "{'linearsvc__C': 0.011288378916846888} 0.756\n"
     ]
    }
   ],
   "source": [
    "svc_param, svc_score = fit_with_kfold_shuffling(LinearSVC(max_iter = 5000),\\\n",
    "                                               param = {'linearsvc__C': np.logspace(-2.5,-1,20)},\\\n",
    "                                               kstate = 1234)\n",
    "print(svc_param, svc_score)"
   ]
  },
  {
   "cell_type": "markdown",
   "metadata": {},
   "source": [
    "## 1.7 Visualize most important coefficient"
   ]
  },
  {
   "cell_type": "code",
   "execution_count": 49,
   "metadata": {},
   "outputs": [],
   "source": [
    "# import numpy as np    \n",
    "# from sklearn.linear_model import LogisticRegression\n",
    "\n",
    "# x1 = np.random.randn(100)\n",
    "# x2 = 4*np.random.randn(100)\n",
    "# x3 = 0.5*np.random.randn(100)\n",
    "# y = (3 + x1 + x2 + x3 + 0.2*np.random.randn()) > 0\n",
    "# X = np.column_stack([x1, x2, x3])\n",
    "\n",
    "# m = LogisticRegression()\n",
    "# m.fit(X, y)\n",
    "\n",
    "# # The estimated coefficients will all be around 1:\n",
    "# print(m.coef_)\n",
    "\n",
    "# # Those values, however, will show that the second parameter\n",
    "# # is more influential\n",
    "# print(np.std(X, 0)*m.coef_)"
   ]
  },
  {
   "cell_type": "code",
   "execution_count": 50,
   "metadata": {},
   "outputs": [],
   "source": [
    "# m.fit(X / np.std(X, 0), y)\n",
    "# print(m.coef_)"
   ]
  },
  {
   "cell_type": "code",
   "execution_count": 51,
   "metadata": {},
   "outputs": [],
   "source": [
    "# draw graph\n",
    "X_train, X_test, y_train, y_test = train_test_split(features, target, \\\n",
    "                                                    random_state = 1234, stratify = target)"
   ]
  },
  {
   "cell_type": "code",
   "execution_count": 52,
   "metadata": {
    "scrolled": true
   },
   "outputs": [
    {
     "name": "stdout",
     "output_type": "stream",
     "text": [
      "Coefficient:  [[-0.26350694 -0.35318756 -0.27895639  0.02290242  0.0484705  -0.05449633\n",
      "  -0.05294354 -0.19407415 -0.6109968   0.08869372  0.7163924  -0.3053234\n",
      "   0.57354682  0.08663058  0.01323544 -0.36807426 -0.07295928 -0.46781162\n",
      "   0.37482154  0.04568627 -0.30946462  0.04269224  0.19166787  0.19159419\n",
      "  -0.07845206  0.08224066 -0.12082138  0.01194768 -0.32566085  0.14622402\n",
      "   0.2883257  -0.01717801  0.33925924 -0.23322628  0.11177813 -0.20061789\n",
      "  -0.11866574 -0.21035028 -0.03011398  0.35914517 -0.20047901  0.33293592\n",
      "  -0.13244173 -0.09256352 -0.16377923  0.27635476 -0.01999683 -0.23351859\n",
      "   0.33841198 -0.10487821  0.02084896  0.19847288 -0.21930666 -0.06446078\n",
      "   0.05258969 -0.00128812  0.01317439 -0.12642496  0.12644013  0.22415632\n",
      "  -0.22414115]]\n",
      "Intercept:  [0.82412748]\n"
     ]
    }
   ],
   "source": [
    "# for logistic regression with C = 0.1\n",
    "ct = make_column_transformer((StandardScaler(), numeric), (OneHotEncoder(), ~numeric))\n",
    "X_train = ct.fit_transform(X_train)\n",
    "X_test = ct.transform(X_test)\n",
    "final_logreg = LogisticRegression(C = 0.1)\n",
    "final_logreg.fit(X_train, y_train)\n",
    "print('Coefficient: ', final_logreg.coef_)\n",
    "print('Intercept: ', final_logreg.intercept_)"
   ]
  },
  {
   "cell_type": "code",
   "execution_count": 61,
   "metadata": {},
   "outputs": [
    {
     "name": "stdout",
     "output_type": "stream",
     "text": [
      "Best alpha using built-in LassoCV: 0.003271\n",
      "Best score using built-in LassoCV: 0.280368\n"
     ]
    }
   ],
   "source": [
    "# Select important index with LassoCV\n",
    "\n",
    "from sklearn.linear_model import LassoCV\n",
    "\n",
    "las = LassoCV()\n",
    "las.fit(X_train, y_train)\n",
    "\n",
    "# all coef\n",
    "ser = pd.Series(las.coef_)"
   ]
  },
  {
   "cell_type": "code",
   "execution_count": 83,
   "metadata": {},
   "outputs": [
    {
     "name": "stdout",
     "output_type": "stream",
     "text": [
      "Int64Index([15, 8, 10, 41, 20, 17, 12, 11, 48, 39, 1, 32, 45, 18, 28, 30, 2, 0,\n",
      "            33, 52],\n",
      "           dtype='int64')\n"
     ]
    }
   ],
   "source": [
    "# take absolute value and select index of the nlargest coef\n",
    "idx = ser.abs().nlargest(n = 20).index\n",
    "print(idx)"
   ]
  },
  {
   "cell_type": "code",
   "execution_count": 92,
   "metadata": {},
   "outputs": [],
   "source": [
    "important_coef =  final_logreg.coef_[0][idx]"
   ]
  },
  {
   "cell_type": "code",
   "execution_count": 97,
   "metadata": {},
   "outputs": [
    {
     "data": {
      "image/png": "[encoded data removed]",
      "text/plain": [
       "<Figure size 432x288 with 1 Axes>"
      ]
     },
     "metadata": {
      "needs_background": "light"
     },
     "output_type": "display_data"
    }
   ],
   "source": [
    "plt.bar(idx, important_coef)\n",
    "plt.xlabel('Coefficient index')\n",
    "plt.ylabel('Coefficient values')\n",
    "plt.title('Most 20 important coefficients for Logistic Regression')\n",
    "plt.show()"
   ]
  },
  {
   "cell_type": "code",
   "execution_count": null,
   "metadata": {},
   "outputs": [],
   "source": []
  }
 ],
 "metadata": {
  "kernelspec": {
   "display_name": "Python 3",
   "language": "python",
   "name": "python3"
  },
  "language_info": {
   "codemirror_mode": {
    "name": "ipython",
    "version": 3
   },
   "file_extension": ".py",
   "mimetype": "text/x-python",
   "name": "python",
   "nbconvert_exporter": "python",
   "pygments_lexer": "ipython3",
   "version": "3.7.4"
  }
 },
 "nbformat": 4,
 "nbformat_minor": 2
}
